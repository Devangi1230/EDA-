{
 "cells": [
  {
   "cell_type": "code",
   "execution_count": 1,
   "id": "ec617de3-4a98-4b3a-be20-131f92d547d4",
   "metadata": {},
   "outputs": [],
   "source": [
    "import pandas as pd \n",
    "import numpy as np \n",
    "import matplotlib.pyplot as plt \n",
    "import seaborn as sns "
   ]
  },
  {
   "cell_type": "code",
   "execution_count": 2,
   "id": "7256229d-bd3d-49d8-8026-5624190acc38",
   "metadata": {},
   "outputs": [],
   "source": [
    "df=pd.read_excel(r\"C:\\Users\\admin\\Downloads\\Telegram Desktop\\flight_price.xlsx\")"
   ]
  },
  {
   "cell_type": "code",
   "execution_count": 3,
   "id": "67aef836-da0c-4458-a647-25e6c86b6a2e",
   "metadata": {},
   "outputs": [
    {
     "data": {
      "text/html": [
       "<div>\n",
       "<style scoped>\n",
       "    .dataframe tbody tr th:only-of-type {\n",
       "        vertical-align: middle;\n",
       "    }\n",
       "\n",
       "    .dataframe tbody tr th {\n",
       "        vertical-align: top;\n",
       "    }\n",
       "\n",
       "    .dataframe thead th {\n",
       "        text-align: right;\n",
       "    }\n",
       "</style>\n",
       "<table border=\"1\" class=\"dataframe\">\n",
       "  <thead>\n",
       "    <tr style=\"text-align: right;\">\n",
       "      <th></th>\n",
       "      <th>Airline</th>\n",
       "      <th>Date_of_Journey</th>\n",
       "      <th>Source</th>\n",
       "      <th>Destination</th>\n",
       "      <th>Route</th>\n",
       "      <th>Dep_Time</th>\n",
       "      <th>Arrival_Time</th>\n",
       "      <th>Duration</th>\n",
       "      <th>Total_Stops</th>\n",
       "      <th>Additional_Info</th>\n",
       "      <th>Price</th>\n",
       "    </tr>\n",
       "  </thead>\n",
       "  <tbody>\n",
       "    <tr>\n",
       "      <th>0</th>\n",
       "      <td>IndiGo</td>\n",
       "      <td>24/03/2019</td>\n",
       "      <td>Banglore</td>\n",
       "      <td>New Delhi</td>\n",
       "      <td>BLR → DEL</td>\n",
       "      <td>22:20</td>\n",
       "      <td>01:10 22 Mar</td>\n",
       "      <td>2h 50m</td>\n",
       "      <td>non-stop</td>\n",
       "      <td>No info</td>\n",
       "      <td>3897</td>\n",
       "    </tr>\n",
       "    <tr>\n",
       "      <th>1</th>\n",
       "      <td>Air India</td>\n",
       "      <td>1/05/2019</td>\n",
       "      <td>Kolkata</td>\n",
       "      <td>Banglore</td>\n",
       "      <td>CCU → IXR → BBI → BLR</td>\n",
       "      <td>05:50</td>\n",
       "      <td>13:15</td>\n",
       "      <td>7h 25m</td>\n",
       "      <td>2 stops</td>\n",
       "      <td>No info</td>\n",
       "      <td>7662</td>\n",
       "    </tr>\n",
       "    <tr>\n",
       "      <th>2</th>\n",
       "      <td>Jet Airways</td>\n",
       "      <td>9/06/2019</td>\n",
       "      <td>Delhi</td>\n",
       "      <td>Cochin</td>\n",
       "      <td>DEL → LKO → BOM → COK</td>\n",
       "      <td>09:25</td>\n",
       "      <td>04:25 10 Jun</td>\n",
       "      <td>19h</td>\n",
       "      <td>2 stops</td>\n",
       "      <td>No info</td>\n",
       "      <td>13882</td>\n",
       "    </tr>\n",
       "    <tr>\n",
       "      <th>3</th>\n",
       "      <td>IndiGo</td>\n",
       "      <td>12/05/2019</td>\n",
       "      <td>Kolkata</td>\n",
       "      <td>Banglore</td>\n",
       "      <td>CCU → NAG → BLR</td>\n",
       "      <td>18:05</td>\n",
       "      <td>23:30</td>\n",
       "      <td>5h 25m</td>\n",
       "      <td>1 stop</td>\n",
       "      <td>No info</td>\n",
       "      <td>6218</td>\n",
       "    </tr>\n",
       "    <tr>\n",
       "      <th>4</th>\n",
       "      <td>IndiGo</td>\n",
       "      <td>01/03/2019</td>\n",
       "      <td>Banglore</td>\n",
       "      <td>New Delhi</td>\n",
       "      <td>BLR → NAG → DEL</td>\n",
       "      <td>16:50</td>\n",
       "      <td>21:35</td>\n",
       "      <td>4h 45m</td>\n",
       "      <td>1 stop</td>\n",
       "      <td>No info</td>\n",
       "      <td>13302</td>\n",
       "    </tr>\n",
       "    <tr>\n",
       "      <th>...</th>\n",
       "      <td>...</td>\n",
       "      <td>...</td>\n",
       "      <td>...</td>\n",
       "      <td>...</td>\n",
       "      <td>...</td>\n",
       "      <td>...</td>\n",
       "      <td>...</td>\n",
       "      <td>...</td>\n",
       "      <td>...</td>\n",
       "      <td>...</td>\n",
       "      <td>...</td>\n",
       "    </tr>\n",
       "    <tr>\n",
       "      <th>10678</th>\n",
       "      <td>Air Asia</td>\n",
       "      <td>9/04/2019</td>\n",
       "      <td>Kolkata</td>\n",
       "      <td>Banglore</td>\n",
       "      <td>CCU → BLR</td>\n",
       "      <td>19:55</td>\n",
       "      <td>22:25</td>\n",
       "      <td>2h 30m</td>\n",
       "      <td>non-stop</td>\n",
       "      <td>No info</td>\n",
       "      <td>4107</td>\n",
       "    </tr>\n",
       "    <tr>\n",
       "      <th>10679</th>\n",
       "      <td>Air India</td>\n",
       "      <td>27/04/2019</td>\n",
       "      <td>Kolkata</td>\n",
       "      <td>Banglore</td>\n",
       "      <td>CCU → BLR</td>\n",
       "      <td>20:45</td>\n",
       "      <td>23:20</td>\n",
       "      <td>2h 35m</td>\n",
       "      <td>non-stop</td>\n",
       "      <td>No info</td>\n",
       "      <td>4145</td>\n",
       "    </tr>\n",
       "    <tr>\n",
       "      <th>10680</th>\n",
       "      <td>Jet Airways</td>\n",
       "      <td>27/04/2019</td>\n",
       "      <td>Banglore</td>\n",
       "      <td>Delhi</td>\n",
       "      <td>BLR → DEL</td>\n",
       "      <td>08:20</td>\n",
       "      <td>11:20</td>\n",
       "      <td>3h</td>\n",
       "      <td>non-stop</td>\n",
       "      <td>No info</td>\n",
       "      <td>7229</td>\n",
       "    </tr>\n",
       "    <tr>\n",
       "      <th>10681</th>\n",
       "      <td>Vistara</td>\n",
       "      <td>01/03/2019</td>\n",
       "      <td>Banglore</td>\n",
       "      <td>New Delhi</td>\n",
       "      <td>BLR → DEL</td>\n",
       "      <td>11:30</td>\n",
       "      <td>14:10</td>\n",
       "      <td>2h 40m</td>\n",
       "      <td>non-stop</td>\n",
       "      <td>No info</td>\n",
       "      <td>12648</td>\n",
       "    </tr>\n",
       "    <tr>\n",
       "      <th>10682</th>\n",
       "      <td>Air India</td>\n",
       "      <td>9/05/2019</td>\n",
       "      <td>Delhi</td>\n",
       "      <td>Cochin</td>\n",
       "      <td>DEL → GOI → BOM → COK</td>\n",
       "      <td>10:55</td>\n",
       "      <td>19:15</td>\n",
       "      <td>8h 20m</td>\n",
       "      <td>2 stops</td>\n",
       "      <td>No info</td>\n",
       "      <td>11753</td>\n",
       "    </tr>\n",
       "  </tbody>\n",
       "</table>\n",
       "<p>10683 rows × 11 columns</p>\n",
       "</div>"
      ],
      "text/plain": [
       "           Airline Date_of_Journey    Source Destination  \\\n",
       "0           IndiGo      24/03/2019  Banglore   New Delhi   \n",
       "1        Air India       1/05/2019   Kolkata    Banglore   \n",
       "2      Jet Airways       9/06/2019     Delhi      Cochin   \n",
       "3           IndiGo      12/05/2019   Kolkata    Banglore   \n",
       "4           IndiGo      01/03/2019  Banglore   New Delhi   \n",
       "...            ...             ...       ...         ...   \n",
       "10678     Air Asia       9/04/2019   Kolkata    Banglore   \n",
       "10679    Air India      27/04/2019   Kolkata    Banglore   \n",
       "10680  Jet Airways      27/04/2019  Banglore       Delhi   \n",
       "10681      Vistara      01/03/2019  Banglore   New Delhi   \n",
       "10682    Air India       9/05/2019     Delhi      Cochin   \n",
       "\n",
       "                       Route Dep_Time  Arrival_Time Duration Total_Stops  \\\n",
       "0                  BLR → DEL    22:20  01:10 22 Mar   2h 50m    non-stop   \n",
       "1      CCU → IXR → BBI → BLR    05:50         13:15   7h 25m     2 stops   \n",
       "2      DEL → LKO → BOM → COK    09:25  04:25 10 Jun      19h     2 stops   \n",
       "3            CCU → NAG → BLR    18:05         23:30   5h 25m      1 stop   \n",
       "4            BLR → NAG → DEL    16:50         21:35   4h 45m      1 stop   \n",
       "...                      ...      ...           ...      ...         ...   \n",
       "10678              CCU → BLR    19:55         22:25   2h 30m    non-stop   \n",
       "10679              CCU → BLR    20:45         23:20   2h 35m    non-stop   \n",
       "10680              BLR → DEL    08:20         11:20       3h    non-stop   \n",
       "10681              BLR → DEL    11:30         14:10   2h 40m    non-stop   \n",
       "10682  DEL → GOI → BOM → COK    10:55         19:15   8h 20m     2 stops   \n",
       "\n",
       "      Additional_Info  Price  \n",
       "0             No info   3897  \n",
       "1             No info   7662  \n",
       "2             No info  13882  \n",
       "3             No info   6218  \n",
       "4             No info  13302  \n",
       "...               ...    ...  \n",
       "10678         No info   4107  \n",
       "10679         No info   4145  \n",
       "10680         No info   7229  \n",
       "10681         No info  12648  \n",
       "10682         No info  11753  \n",
       "\n",
       "[10683 rows x 11 columns]"
      ]
     },
     "execution_count": 3,
     "metadata": {},
     "output_type": "execute_result"
    }
   ],
   "source": [
    "df"
   ]
  },
  {
   "cell_type": "code",
   "execution_count": 4,
   "id": "dce3b8f9-3275-480c-af6e-7043b589ae3a",
   "metadata": {},
   "outputs": [
    {
     "name": "stdout",
     "output_type": "stream",
     "text": [
      "<class 'pandas.core.frame.DataFrame'>\n",
      "RangeIndex: 10683 entries, 0 to 10682\n",
      "Data columns (total 11 columns):\n",
      " #   Column           Non-Null Count  Dtype \n",
      "---  ------           --------------  ----- \n",
      " 0   Airline          10683 non-null  object\n",
      " 1   Date_of_Journey  10683 non-null  object\n",
      " 2   Source           10683 non-null  object\n",
      " 3   Destination      10683 non-null  object\n",
      " 4   Route            10682 non-null  object\n",
      " 5   Dep_Time         10683 non-null  object\n",
      " 6   Arrival_Time     10683 non-null  object\n",
      " 7   Duration         10683 non-null  object\n",
      " 8   Total_Stops      10682 non-null  object\n",
      " 9   Additional_Info  10683 non-null  object\n",
      " 10  Price            10683 non-null  int64 \n",
      "dtypes: int64(1), object(10)\n",
      "memory usage: 918.2+ KB\n"
     ]
    }
   ],
   "source": [
    "df.info()"
   ]
  },
  {
   "cell_type": "code",
   "execution_count": 5,
   "id": "86b9a671-69ea-45f6-86db-483b0981e9c0",
   "metadata": {},
   "outputs": [
    {
     "data": {
      "text/plain": [
       "Airline            0\n",
       "Date_of_Journey    0\n",
       "Source             0\n",
       "Destination        0\n",
       "Route              1\n",
       "Dep_Time           0\n",
       "Arrival_Time       0\n",
       "Duration           0\n",
       "Total_Stops        1\n",
       "Additional_Info    0\n",
       "Price              0\n",
       "dtype: int64"
      ]
     },
     "execution_count": 5,
     "metadata": {},
     "output_type": "execute_result"
    }
   ],
   "source": [
    "df.isnull().sum()"
   ]
  },
  {
   "cell_type": "code",
   "execution_count": 6,
   "id": "1fee5ae3-bb8b-4d80-ab78-a9b18d7ac921",
   "metadata": {},
   "outputs": [
    {
     "data": {
      "text/html": [
       "<div>\n",
       "<style scoped>\n",
       "    .dataframe tbody tr th:only-of-type {\n",
       "        vertical-align: middle;\n",
       "    }\n",
       "\n",
       "    .dataframe tbody tr th {\n",
       "        vertical-align: top;\n",
       "    }\n",
       "\n",
       "    .dataframe thead th {\n",
       "        text-align: right;\n",
       "    }\n",
       "</style>\n",
       "<table border=\"1\" class=\"dataframe\">\n",
       "  <thead>\n",
       "    <tr style=\"text-align: right;\">\n",
       "      <th></th>\n",
       "      <th>Price</th>\n",
       "    </tr>\n",
       "  </thead>\n",
       "  <tbody>\n",
       "    <tr>\n",
       "      <th>count</th>\n",
       "      <td>10683.000000</td>\n",
       "    </tr>\n",
       "    <tr>\n",
       "      <th>mean</th>\n",
       "      <td>9087.064121</td>\n",
       "    </tr>\n",
       "    <tr>\n",
       "      <th>std</th>\n",
       "      <td>4611.359167</td>\n",
       "    </tr>\n",
       "    <tr>\n",
       "      <th>min</th>\n",
       "      <td>1759.000000</td>\n",
       "    </tr>\n",
       "    <tr>\n",
       "      <th>25%</th>\n",
       "      <td>5277.000000</td>\n",
       "    </tr>\n",
       "    <tr>\n",
       "      <th>50%</th>\n",
       "      <td>8372.000000</td>\n",
       "    </tr>\n",
       "    <tr>\n",
       "      <th>75%</th>\n",
       "      <td>12373.000000</td>\n",
       "    </tr>\n",
       "    <tr>\n",
       "      <th>max</th>\n",
       "      <td>79512.000000</td>\n",
       "    </tr>\n",
       "  </tbody>\n",
       "</table>\n",
       "</div>"
      ],
      "text/plain": [
       "              Price\n",
       "count  10683.000000\n",
       "mean    9087.064121\n",
       "std     4611.359167\n",
       "min     1759.000000\n",
       "25%     5277.000000\n",
       "50%     8372.000000\n",
       "75%    12373.000000\n",
       "max    79512.000000"
      ]
     },
     "execution_count": 6,
     "metadata": {},
     "output_type": "execute_result"
    }
   ],
   "source": [
    "df.describe()"
   ]
  },
  {
   "cell_type": "code",
   "execution_count": 7,
   "id": "d82f4d38-a70f-4175-9dba-1fc9dc24ea22",
   "metadata": {},
   "outputs": [
    {
     "data": {
      "text/plain": [
       "Index(['Airline', 'Date_of_Journey', 'Source', 'Destination', 'Route',\n",
       "       'Dep_Time', 'Arrival_Time', 'Duration', 'Total_Stops',\n",
       "       'Additional_Info', 'Price'],\n",
       "      dtype='object')"
      ]
     },
     "execution_count": 7,
     "metadata": {},
     "output_type": "execute_result"
    }
   ],
   "source": [
    "df.columns"
   ]
  },
  {
   "cell_type": "code",
   "execution_count": 8,
   "id": "0f1909db-2595-41fc-8399-9811894d53e2",
   "metadata": {},
   "outputs": [
    {
     "data": {
      "text/plain": [
       "Airline\n",
       "Jet Airways                          3849\n",
       "IndiGo                               2053\n",
       "Air India                            1752\n",
       "Multiple carriers                    1196\n",
       "SpiceJet                              818\n",
       "Vistara                               479\n",
       "Air Asia                              319\n",
       "GoAir                                 194\n",
       "Multiple carriers Premium economy      13\n",
       "Jet Airways Business                    6\n",
       "Vistara Premium economy                 3\n",
       "Trujet                                  1\n",
       "Name: count, dtype: int64"
      ]
     },
     "execution_count": 8,
     "metadata": {},
     "output_type": "execute_result"
    }
   ],
   "source": [
    "df['Airline'].value_counts()"
   ]
  },
  {
   "cell_type": "code",
   "execution_count": 9,
   "id": "ff443cfd-2d19-4710-9894-62b92668245e",
   "metadata": {},
   "outputs": [
    {
     "data": {
      "text/plain": [
       "Source\n",
       "Delhi       4537\n",
       "Kolkata     2871\n",
       "Banglore    2197\n",
       "Mumbai       697\n",
       "Chennai      381\n",
       "Name: count, dtype: int64"
      ]
     },
     "execution_count": 9,
     "metadata": {},
     "output_type": "execute_result"
    }
   ],
   "source": [
    "df[\"Source\"].value_counts()"
   ]
  },
  {
   "cell_type": "code",
   "execution_count": 10,
   "id": "284aa89b-df0e-4b89-9936-03f13639c796",
   "metadata": {},
   "outputs": [
    {
     "data": {
      "text/plain": [
       "Destination\n",
       "Cochin       4537\n",
       "Banglore     2871\n",
       "Delhi        1265\n",
       "New Delhi     932\n",
       "Hyderabad     697\n",
       "Kolkata       381\n",
       "Name: count, dtype: int64"
      ]
     },
     "execution_count": 10,
     "metadata": {},
     "output_type": "execute_result"
    }
   ],
   "source": [
    "df['Destination'].value_counts()"
   ]
  },
  {
   "cell_type": "code",
   "execution_count": 11,
   "id": "8250f9b0-741c-4e0e-85f3-31ef035054b6",
   "metadata": {},
   "outputs": [
    {
     "data": {
      "text/plain": [
       "Total_Stops\n",
       "1 stop      5625\n",
       "non-stop    3491\n",
       "2 stops     1520\n",
       "3 stops       45\n",
       "4 stops        1\n",
       "Name: count, dtype: int64"
      ]
     },
     "execution_count": 11,
     "metadata": {},
     "output_type": "execute_result"
    }
   ],
   "source": [
    "df[\"Total_Stops\"].value_counts()"
   ]
  },
  {
   "cell_type": "code",
   "execution_count": 12,
   "id": "99344c18-906b-4879-bde8-52b91f495925",
   "metadata": {},
   "outputs": [
    {
     "data": {
      "text/plain": [
       "Additional_Info\n",
       "No info                         8345\n",
       "In-flight meal not included     1982\n",
       "No check-in baggage included     320\n",
       "1 Long layover                    19\n",
       "Change airports                    7\n",
       "Business class                     4\n",
       "No Info                            3\n",
       "1 Short layover                    1\n",
       "Red-eye flight                     1\n",
       "2 Long layover                     1\n",
       "Name: count, dtype: int64"
      ]
     },
     "execution_count": 12,
     "metadata": {},
     "output_type": "execute_result"
    }
   ],
   "source": [
    "df[ 'Additional_Info'].value_counts()"
   ]
  },
  {
   "cell_type": "markdown",
   "id": "73756349-619a-48c1-b38a-34f300c57f66",
   "metadata": {},
   "source": [
    "# Data Cleaning "
   ]
  },
  {
   "cell_type": "code",
   "execution_count": 14,
   "id": "49ff0936-ad23-4824-8777-d570474ccca8",
   "metadata": {},
   "outputs": [
    {
     "data": {
      "text/html": [
       "<div>\n",
       "<style scoped>\n",
       "    .dataframe tbody tr th:only-of-type {\n",
       "        vertical-align: middle;\n",
       "    }\n",
       "\n",
       "    .dataframe tbody tr th {\n",
       "        vertical-align: top;\n",
       "    }\n",
       "\n",
       "    .dataframe thead th {\n",
       "        text-align: right;\n",
       "    }\n",
       "</style>\n",
       "<table border=\"1\" class=\"dataframe\">\n",
       "  <thead>\n",
       "    <tr style=\"text-align: right;\">\n",
       "      <th></th>\n",
       "      <th>Airline</th>\n",
       "      <th>Date_of_Journey</th>\n",
       "      <th>Source</th>\n",
       "      <th>Destination</th>\n",
       "      <th>Route</th>\n",
       "      <th>Dep_Time</th>\n",
       "      <th>Arrival_Time</th>\n",
       "      <th>Duration</th>\n",
       "      <th>Total_Stops</th>\n",
       "      <th>Additional_Info</th>\n",
       "      <th>Price</th>\n",
       "    </tr>\n",
       "  </thead>\n",
       "  <tbody>\n",
       "    <tr>\n",
       "      <th>0</th>\n",
       "      <td>IndiGo</td>\n",
       "      <td>24/03/2019</td>\n",
       "      <td>Banglore</td>\n",
       "      <td>New Delhi</td>\n",
       "      <td>BLR → DEL</td>\n",
       "      <td>22:20</td>\n",
       "      <td>01:10 22 Mar</td>\n",
       "      <td>2h 50m</td>\n",
       "      <td>non-stop</td>\n",
       "      <td>No info</td>\n",
       "      <td>3897</td>\n",
       "    </tr>\n",
       "    <tr>\n",
       "      <th>1</th>\n",
       "      <td>Air India</td>\n",
       "      <td>1/05/2019</td>\n",
       "      <td>Kolkata</td>\n",
       "      <td>Banglore</td>\n",
       "      <td>CCU → IXR → BBI → BLR</td>\n",
       "      <td>05:50</td>\n",
       "      <td>13:15</td>\n",
       "      <td>7h 25m</td>\n",
       "      <td>2 stops</td>\n",
       "      <td>No info</td>\n",
       "      <td>7662</td>\n",
       "    </tr>\n",
       "    <tr>\n",
       "      <th>2</th>\n",
       "      <td>Jet Airways</td>\n",
       "      <td>9/06/2019</td>\n",
       "      <td>Delhi</td>\n",
       "      <td>Cochin</td>\n",
       "      <td>DEL → LKO → BOM → COK</td>\n",
       "      <td>09:25</td>\n",
       "      <td>04:25 10 Jun</td>\n",
       "      <td>19h</td>\n",
       "      <td>2 stops</td>\n",
       "      <td>No info</td>\n",
       "      <td>13882</td>\n",
       "    </tr>\n",
       "    <tr>\n",
       "      <th>3</th>\n",
       "      <td>IndiGo</td>\n",
       "      <td>12/05/2019</td>\n",
       "      <td>Kolkata</td>\n",
       "      <td>Banglore</td>\n",
       "      <td>CCU → NAG → BLR</td>\n",
       "      <td>18:05</td>\n",
       "      <td>23:30</td>\n",
       "      <td>5h 25m</td>\n",
       "      <td>1 stop</td>\n",
       "      <td>No info</td>\n",
       "      <td>6218</td>\n",
       "    </tr>\n",
       "    <tr>\n",
       "      <th>4</th>\n",
       "      <td>IndiGo</td>\n",
       "      <td>01/03/2019</td>\n",
       "      <td>Banglore</td>\n",
       "      <td>New Delhi</td>\n",
       "      <td>BLR → NAG → DEL</td>\n",
       "      <td>16:50</td>\n",
       "      <td>21:35</td>\n",
       "      <td>4h 45m</td>\n",
       "      <td>1 stop</td>\n",
       "      <td>No info</td>\n",
       "      <td>13302</td>\n",
       "    </tr>\n",
       "    <tr>\n",
       "      <th>...</th>\n",
       "      <td>...</td>\n",
       "      <td>...</td>\n",
       "      <td>...</td>\n",
       "      <td>...</td>\n",
       "      <td>...</td>\n",
       "      <td>...</td>\n",
       "      <td>...</td>\n",
       "      <td>...</td>\n",
       "      <td>...</td>\n",
       "      <td>...</td>\n",
       "      <td>...</td>\n",
       "    </tr>\n",
       "    <tr>\n",
       "      <th>10678</th>\n",
       "      <td>Air Asia</td>\n",
       "      <td>9/04/2019</td>\n",
       "      <td>Kolkata</td>\n",
       "      <td>Banglore</td>\n",
       "      <td>CCU → BLR</td>\n",
       "      <td>19:55</td>\n",
       "      <td>22:25</td>\n",
       "      <td>2h 30m</td>\n",
       "      <td>non-stop</td>\n",
       "      <td>No info</td>\n",
       "      <td>4107</td>\n",
       "    </tr>\n",
       "    <tr>\n",
       "      <th>10679</th>\n",
       "      <td>Air India</td>\n",
       "      <td>27/04/2019</td>\n",
       "      <td>Kolkata</td>\n",
       "      <td>Banglore</td>\n",
       "      <td>CCU → BLR</td>\n",
       "      <td>20:45</td>\n",
       "      <td>23:20</td>\n",
       "      <td>2h 35m</td>\n",
       "      <td>non-stop</td>\n",
       "      <td>No info</td>\n",
       "      <td>4145</td>\n",
       "    </tr>\n",
       "    <tr>\n",
       "      <th>10680</th>\n",
       "      <td>Jet Airways</td>\n",
       "      <td>27/04/2019</td>\n",
       "      <td>Banglore</td>\n",
       "      <td>Delhi</td>\n",
       "      <td>BLR → DEL</td>\n",
       "      <td>08:20</td>\n",
       "      <td>11:20</td>\n",
       "      <td>3h</td>\n",
       "      <td>non-stop</td>\n",
       "      <td>No info</td>\n",
       "      <td>7229</td>\n",
       "    </tr>\n",
       "    <tr>\n",
       "      <th>10681</th>\n",
       "      <td>Vistara</td>\n",
       "      <td>01/03/2019</td>\n",
       "      <td>Banglore</td>\n",
       "      <td>New Delhi</td>\n",
       "      <td>BLR → DEL</td>\n",
       "      <td>11:30</td>\n",
       "      <td>14:10</td>\n",
       "      <td>2h 40m</td>\n",
       "      <td>non-stop</td>\n",
       "      <td>No info</td>\n",
       "      <td>12648</td>\n",
       "    </tr>\n",
       "    <tr>\n",
       "      <th>10682</th>\n",
       "      <td>Air India</td>\n",
       "      <td>9/05/2019</td>\n",
       "      <td>Delhi</td>\n",
       "      <td>Cochin</td>\n",
       "      <td>DEL → GOI → BOM → COK</td>\n",
       "      <td>10:55</td>\n",
       "      <td>19:15</td>\n",
       "      <td>8h 20m</td>\n",
       "      <td>2 stops</td>\n",
       "      <td>No info</td>\n",
       "      <td>11753</td>\n",
       "    </tr>\n",
       "  </tbody>\n",
       "</table>\n",
       "<p>10683 rows × 11 columns</p>\n",
       "</div>"
      ],
      "text/plain": [
       "           Airline Date_of_Journey    Source Destination  \\\n",
       "0           IndiGo      24/03/2019  Banglore   New Delhi   \n",
       "1        Air India       1/05/2019   Kolkata    Banglore   \n",
       "2      Jet Airways       9/06/2019     Delhi      Cochin   \n",
       "3           IndiGo      12/05/2019   Kolkata    Banglore   \n",
       "4           IndiGo      01/03/2019  Banglore   New Delhi   \n",
       "...            ...             ...       ...         ...   \n",
       "10678     Air Asia       9/04/2019   Kolkata    Banglore   \n",
       "10679    Air India      27/04/2019   Kolkata    Banglore   \n",
       "10680  Jet Airways      27/04/2019  Banglore       Delhi   \n",
       "10681      Vistara      01/03/2019  Banglore   New Delhi   \n",
       "10682    Air India       9/05/2019     Delhi      Cochin   \n",
       "\n",
       "                       Route Dep_Time  Arrival_Time Duration Total_Stops  \\\n",
       "0                  BLR → DEL    22:20  01:10 22 Mar   2h 50m    non-stop   \n",
       "1      CCU → IXR → BBI → BLR    05:50         13:15   7h 25m     2 stops   \n",
       "2      DEL → LKO → BOM → COK    09:25  04:25 10 Jun      19h     2 stops   \n",
       "3            CCU → NAG → BLR    18:05         23:30   5h 25m      1 stop   \n",
       "4            BLR → NAG → DEL    16:50         21:35   4h 45m      1 stop   \n",
       "...                      ...      ...           ...      ...         ...   \n",
       "10678              CCU → BLR    19:55         22:25   2h 30m    non-stop   \n",
       "10679              CCU → BLR    20:45         23:20   2h 35m    non-stop   \n",
       "10680              BLR → DEL    08:20         11:20       3h    non-stop   \n",
       "10681              BLR → DEL    11:30         14:10   2h 40m    non-stop   \n",
       "10682  DEL → GOI → BOM → COK    10:55         19:15   8h 20m     2 stops   \n",
       "\n",
       "      Additional_Info  Price  \n",
       "0             No info   3897  \n",
       "1             No info   7662  \n",
       "2             No info  13882  \n",
       "3             No info   6218  \n",
       "4             No info  13302  \n",
       "...               ...    ...  \n",
       "10678         No info   4107  \n",
       "10679         No info   4145  \n",
       "10680         No info   7229  \n",
       "10681         No info  12648  \n",
       "10682         No info  11753  \n",
       "\n",
       "[10683 rows x 11 columns]"
      ]
     },
     "execution_count": 14,
     "metadata": {},
     "output_type": "execute_result"
    }
   ],
   "source": [
    "df2=df.copy()\n",
    "df2"
   ]
  },
  {
   "cell_type": "code",
   "execution_count": 15,
   "id": "e8a0327e-021d-49f8-a34c-1b9769527888",
   "metadata": {},
   "outputs": [
    {
     "data": {
      "text/plain": [
       "array(['24/03/2019', '1/05/2019', '9/06/2019', '12/05/2019', '01/03/2019',\n",
       "       '24/06/2019', '12/03/2019', '27/05/2019', '1/06/2019',\n",
       "       '18/04/2019', '9/05/2019', '24/04/2019', '3/03/2019', '15/04/2019',\n",
       "       '12/06/2019', '6/03/2019', '21/03/2019', '3/04/2019', '6/05/2019',\n",
       "       '15/05/2019', '18/06/2019', '15/06/2019', '6/04/2019',\n",
       "       '18/05/2019', '27/06/2019', '21/05/2019', '06/03/2019',\n",
       "       '3/06/2019', '15/03/2019', '3/05/2019', '9/03/2019', '6/06/2019',\n",
       "       '24/05/2019', '09/03/2019', '1/04/2019', '21/04/2019',\n",
       "       '21/06/2019', '27/03/2019', '18/03/2019', '12/04/2019',\n",
       "       '9/04/2019', '1/03/2019', '03/03/2019', '27/04/2019'], dtype=object)"
      ]
     },
     "execution_count": 15,
     "metadata": {},
     "output_type": "execute_result"
    }
   ],
   "source": [
    "df2['Date_of_Journey'].unique()"
   ]
  },
  {
   "cell_type": "code",
   "execution_count": 16,
   "id": "20e91536-c5d4-452b-b8cd-e9c58ad721b0",
   "metadata": {},
   "outputs": [],
   "source": [
    "df2['Date_of_Journey']=df2['Date_of_Journey'].str.replace(\"/\",\" \",regex=False)"
   ]
  },
  {
   "cell_type": "code",
   "execution_count": 17,
   "id": "485d5510-e455-4c1a-9a67-fdcc4b5d2888",
   "metadata": {},
   "outputs": [
    {
     "name": "stderr",
     "output_type": "stream",
     "text": [
      "C:\\Users\\admin\\AppData\\Local\\Temp\\ipykernel_13280\\2750464384.py:1: UserWarning: Parsing dates in %d %m %Y format when dayfirst=False (the default) was specified. Pass `dayfirst=True` or specify a format to silence this warning.\n",
      "  df2['Date_of_Journey']=pd.to_datetime(df2['Date_of_Journey'])\n"
     ]
    }
   ],
   "source": [
    "df2['Date_of_Journey']=pd.to_datetime(df2['Date_of_Journey'])\n",
    "df2[\"Day\"]=df2['Date_of_Journey'].dt.day\n",
    "df2[\"Month\"]=df2['Date_of_Journey'].dt.month \n",
    "df2[\"Year\"]=df2['Date_of_Journey'].dt.year"
   ]
  },
  {
   "cell_type": "code",
   "execution_count": 18,
   "id": "06194731-5e28-47fe-b17a-b533c63bdf30",
   "metadata": {},
   "outputs": [],
   "source": [
    "df2['Date_of_Journey']= df2['Date_of_Journey'].dt.strftime('%Y-%m-%d')"
   ]
  },
  {
   "cell_type": "code",
   "execution_count": 19,
   "id": "46ca9a27-f9ab-4f60-a6a9-f626f26d9b41",
   "metadata": {},
   "outputs": [
    {
     "name": "stdout",
     "output_type": "stream",
     "text": [
      "<class 'pandas.core.frame.DataFrame'>\n",
      "RangeIndex: 10683 entries, 0 to 10682\n",
      "Data columns (total 14 columns):\n",
      " #   Column           Non-Null Count  Dtype \n",
      "---  ------           --------------  ----- \n",
      " 0   Airline          10683 non-null  object\n",
      " 1   Date_of_Journey  10683 non-null  object\n",
      " 2   Source           10683 non-null  object\n",
      " 3   Destination      10683 non-null  object\n",
      " 4   Route            10682 non-null  object\n",
      " 5   Dep_Time         10683 non-null  object\n",
      " 6   Arrival_Time     10683 non-null  object\n",
      " 7   Duration         10683 non-null  object\n",
      " 8   Total_Stops      10682 non-null  object\n",
      " 9   Additional_Info  10683 non-null  object\n",
      " 10  Price            10683 non-null  int64 \n",
      " 11  Day              10683 non-null  int32 \n",
      " 12  Month            10683 non-null  int32 \n",
      " 13  Year             10683 non-null  int32 \n",
      "dtypes: int32(3), int64(1), object(10)\n",
      "memory usage: 1.0+ MB\n"
     ]
    }
   ],
   "source": [
    "df2.info()"
   ]
  },
  {
   "cell_type": "code",
   "execution_count": 20,
   "id": "609dff3a-954a-496f-8e92-b11c3a9b1e68",
   "metadata": {},
   "outputs": [
    {
     "data": {
      "text/plain": [
       "array(['2019-03-24', '2019-05-01', '2019-06-09', '2019-05-12',\n",
       "       '2019-03-01', '2019-06-24', '2019-03-12', '2019-05-27',\n",
       "       '2019-06-01', '2019-04-18', '2019-05-09', '2019-04-24',\n",
       "       '2019-03-03', '2019-04-15', '2019-06-12', '2019-03-06',\n",
       "       '2019-03-21', '2019-04-03', '2019-05-06', '2019-05-15',\n",
       "       '2019-06-18', '2019-06-15', '2019-04-06', '2019-05-18',\n",
       "       '2019-06-27', '2019-05-21', '2019-06-03', '2019-03-15',\n",
       "       '2019-05-03', '2019-03-09', '2019-06-06', '2019-05-24',\n",
       "       '2019-04-01', '2019-04-21', '2019-06-21', '2019-03-27',\n",
       "       '2019-03-18', '2019-04-12', '2019-04-09', '2019-04-27'],\n",
       "      dtype=object)"
      ]
     },
     "execution_count": 20,
     "metadata": {},
     "output_type": "execute_result"
    }
   ],
   "source": [
    "df2['Date_of_Journey'].unique()"
   ]
  },
  {
   "cell_type": "code",
   "execution_count": 21,
   "id": "affc7c6a-852c-4044-97b1-a12c493d771b",
   "metadata": {},
   "outputs": [
    {
     "data": {
      "text/html": [
       "<div>\n",
       "<style scoped>\n",
       "    .dataframe tbody tr th:only-of-type {\n",
       "        vertical-align: middle;\n",
       "    }\n",
       "\n",
       "    .dataframe tbody tr th {\n",
       "        vertical-align: top;\n",
       "    }\n",
       "\n",
       "    .dataframe thead th {\n",
       "        text-align: right;\n",
       "    }\n",
       "</style>\n",
       "<table border=\"1\" class=\"dataframe\">\n",
       "  <thead>\n",
       "    <tr style=\"text-align: right;\">\n",
       "      <th></th>\n",
       "      <th>Airline</th>\n",
       "      <th>Date_of_Journey</th>\n",
       "      <th>Source</th>\n",
       "      <th>Destination</th>\n",
       "      <th>Route</th>\n",
       "      <th>Dep_Time</th>\n",
       "      <th>Arrival_Time</th>\n",
       "      <th>Duration</th>\n",
       "      <th>Total_Stops</th>\n",
       "      <th>Additional_Info</th>\n",
       "      <th>Price</th>\n",
       "      <th>Day</th>\n",
       "      <th>Month</th>\n",
       "      <th>Year</th>\n",
       "    </tr>\n",
       "  </thead>\n",
       "  <tbody>\n",
       "    <tr>\n",
       "      <th>0</th>\n",
       "      <td>IndiGo</td>\n",
       "      <td>2019-03-24</td>\n",
       "      <td>Banglore</td>\n",
       "      <td>New Delhi</td>\n",
       "      <td>BLR → DEL</td>\n",
       "      <td>22:20</td>\n",
       "      <td>01:10 22 Mar</td>\n",
       "      <td>2h 50m</td>\n",
       "      <td>non-stop</td>\n",
       "      <td>No info</td>\n",
       "      <td>3897</td>\n",
       "      <td>24</td>\n",
       "      <td>3</td>\n",
       "      <td>2019</td>\n",
       "    </tr>\n",
       "    <tr>\n",
       "      <th>1</th>\n",
       "      <td>Air India</td>\n",
       "      <td>2019-05-01</td>\n",
       "      <td>Kolkata</td>\n",
       "      <td>Banglore</td>\n",
       "      <td>CCU → IXR → BBI → BLR</td>\n",
       "      <td>05:50</td>\n",
       "      <td>13:15</td>\n",
       "      <td>7h 25m</td>\n",
       "      <td>2 stops</td>\n",
       "      <td>No info</td>\n",
       "      <td>7662</td>\n",
       "      <td>1</td>\n",
       "      <td>5</td>\n",
       "      <td>2019</td>\n",
       "    </tr>\n",
       "    <tr>\n",
       "      <th>2</th>\n",
       "      <td>Jet Airways</td>\n",
       "      <td>2019-06-09</td>\n",
       "      <td>Delhi</td>\n",
       "      <td>Cochin</td>\n",
       "      <td>DEL → LKO → BOM → COK</td>\n",
       "      <td>09:25</td>\n",
       "      <td>04:25 10 Jun</td>\n",
       "      <td>19h</td>\n",
       "      <td>2 stops</td>\n",
       "      <td>No info</td>\n",
       "      <td>13882</td>\n",
       "      <td>9</td>\n",
       "      <td>6</td>\n",
       "      <td>2019</td>\n",
       "    </tr>\n",
       "    <tr>\n",
       "      <th>3</th>\n",
       "      <td>IndiGo</td>\n",
       "      <td>2019-05-12</td>\n",
       "      <td>Kolkata</td>\n",
       "      <td>Banglore</td>\n",
       "      <td>CCU → NAG → BLR</td>\n",
       "      <td>18:05</td>\n",
       "      <td>23:30</td>\n",
       "      <td>5h 25m</td>\n",
       "      <td>1 stop</td>\n",
       "      <td>No info</td>\n",
       "      <td>6218</td>\n",
       "      <td>12</td>\n",
       "      <td>5</td>\n",
       "      <td>2019</td>\n",
       "    </tr>\n",
       "    <tr>\n",
       "      <th>4</th>\n",
       "      <td>IndiGo</td>\n",
       "      <td>2019-03-01</td>\n",
       "      <td>Banglore</td>\n",
       "      <td>New Delhi</td>\n",
       "      <td>BLR → NAG → DEL</td>\n",
       "      <td>16:50</td>\n",
       "      <td>21:35</td>\n",
       "      <td>4h 45m</td>\n",
       "      <td>1 stop</td>\n",
       "      <td>No info</td>\n",
       "      <td>13302</td>\n",
       "      <td>1</td>\n",
       "      <td>3</td>\n",
       "      <td>2019</td>\n",
       "    </tr>\n",
       "    <tr>\n",
       "      <th>...</th>\n",
       "      <td>...</td>\n",
       "      <td>...</td>\n",
       "      <td>...</td>\n",
       "      <td>...</td>\n",
       "      <td>...</td>\n",
       "      <td>...</td>\n",
       "      <td>...</td>\n",
       "      <td>...</td>\n",
       "      <td>...</td>\n",
       "      <td>...</td>\n",
       "      <td>...</td>\n",
       "      <td>...</td>\n",
       "      <td>...</td>\n",
       "      <td>...</td>\n",
       "    </tr>\n",
       "    <tr>\n",
       "      <th>10678</th>\n",
       "      <td>Air Asia</td>\n",
       "      <td>2019-04-09</td>\n",
       "      <td>Kolkata</td>\n",
       "      <td>Banglore</td>\n",
       "      <td>CCU → BLR</td>\n",
       "      <td>19:55</td>\n",
       "      <td>22:25</td>\n",
       "      <td>2h 30m</td>\n",
       "      <td>non-stop</td>\n",
       "      <td>No info</td>\n",
       "      <td>4107</td>\n",
       "      <td>9</td>\n",
       "      <td>4</td>\n",
       "      <td>2019</td>\n",
       "    </tr>\n",
       "    <tr>\n",
       "      <th>10679</th>\n",
       "      <td>Air India</td>\n",
       "      <td>2019-04-27</td>\n",
       "      <td>Kolkata</td>\n",
       "      <td>Banglore</td>\n",
       "      <td>CCU → BLR</td>\n",
       "      <td>20:45</td>\n",
       "      <td>23:20</td>\n",
       "      <td>2h 35m</td>\n",
       "      <td>non-stop</td>\n",
       "      <td>No info</td>\n",
       "      <td>4145</td>\n",
       "      <td>27</td>\n",
       "      <td>4</td>\n",
       "      <td>2019</td>\n",
       "    </tr>\n",
       "    <tr>\n",
       "      <th>10680</th>\n",
       "      <td>Jet Airways</td>\n",
       "      <td>2019-04-27</td>\n",
       "      <td>Banglore</td>\n",
       "      <td>Delhi</td>\n",
       "      <td>BLR → DEL</td>\n",
       "      <td>08:20</td>\n",
       "      <td>11:20</td>\n",
       "      <td>3h</td>\n",
       "      <td>non-stop</td>\n",
       "      <td>No info</td>\n",
       "      <td>7229</td>\n",
       "      <td>27</td>\n",
       "      <td>4</td>\n",
       "      <td>2019</td>\n",
       "    </tr>\n",
       "    <tr>\n",
       "      <th>10681</th>\n",
       "      <td>Vistara</td>\n",
       "      <td>2019-03-01</td>\n",
       "      <td>Banglore</td>\n",
       "      <td>New Delhi</td>\n",
       "      <td>BLR → DEL</td>\n",
       "      <td>11:30</td>\n",
       "      <td>14:10</td>\n",
       "      <td>2h 40m</td>\n",
       "      <td>non-stop</td>\n",
       "      <td>No info</td>\n",
       "      <td>12648</td>\n",
       "      <td>1</td>\n",
       "      <td>3</td>\n",
       "      <td>2019</td>\n",
       "    </tr>\n",
       "    <tr>\n",
       "      <th>10682</th>\n",
       "      <td>Air India</td>\n",
       "      <td>2019-05-09</td>\n",
       "      <td>Delhi</td>\n",
       "      <td>Cochin</td>\n",
       "      <td>DEL → GOI → BOM → COK</td>\n",
       "      <td>10:55</td>\n",
       "      <td>19:15</td>\n",
       "      <td>8h 20m</td>\n",
       "      <td>2 stops</td>\n",
       "      <td>No info</td>\n",
       "      <td>11753</td>\n",
       "      <td>9</td>\n",
       "      <td>5</td>\n",
       "      <td>2019</td>\n",
       "    </tr>\n",
       "  </tbody>\n",
       "</table>\n",
       "<p>10683 rows × 14 columns</p>\n",
       "</div>"
      ],
      "text/plain": [
       "           Airline Date_of_Journey    Source Destination  \\\n",
       "0           IndiGo      2019-03-24  Banglore   New Delhi   \n",
       "1        Air India      2019-05-01   Kolkata    Banglore   \n",
       "2      Jet Airways      2019-06-09     Delhi      Cochin   \n",
       "3           IndiGo      2019-05-12   Kolkata    Banglore   \n",
       "4           IndiGo      2019-03-01  Banglore   New Delhi   \n",
       "...            ...             ...       ...         ...   \n",
       "10678     Air Asia      2019-04-09   Kolkata    Banglore   \n",
       "10679    Air India      2019-04-27   Kolkata    Banglore   \n",
       "10680  Jet Airways      2019-04-27  Banglore       Delhi   \n",
       "10681      Vistara      2019-03-01  Banglore   New Delhi   \n",
       "10682    Air India      2019-05-09     Delhi      Cochin   \n",
       "\n",
       "                       Route Dep_Time  Arrival_Time Duration Total_Stops  \\\n",
       "0                  BLR → DEL    22:20  01:10 22 Mar   2h 50m    non-stop   \n",
       "1      CCU → IXR → BBI → BLR    05:50         13:15   7h 25m     2 stops   \n",
       "2      DEL → LKO → BOM → COK    09:25  04:25 10 Jun      19h     2 stops   \n",
       "3            CCU → NAG → BLR    18:05         23:30   5h 25m      1 stop   \n",
       "4            BLR → NAG → DEL    16:50         21:35   4h 45m      1 stop   \n",
       "...                      ...      ...           ...      ...         ...   \n",
       "10678              CCU → BLR    19:55         22:25   2h 30m    non-stop   \n",
       "10679              CCU → BLR    20:45         23:20   2h 35m    non-stop   \n",
       "10680              BLR → DEL    08:20         11:20       3h    non-stop   \n",
       "10681              BLR → DEL    11:30         14:10   2h 40m    non-stop   \n",
       "10682  DEL → GOI → BOM → COK    10:55         19:15   8h 20m     2 stops   \n",
       "\n",
       "      Additional_Info  Price  Day  Month  Year  \n",
       "0             No info   3897   24      3  2019  \n",
       "1             No info   7662    1      5  2019  \n",
       "2             No info  13882    9      6  2019  \n",
       "3             No info   6218   12      5  2019  \n",
       "4             No info  13302    1      3  2019  \n",
       "...               ...    ...  ...    ...   ...  \n",
       "10678         No info   4107    9      4  2019  \n",
       "10679         No info   4145   27      4  2019  \n",
       "10680         No info   7229   27      4  2019  \n",
       "10681         No info  12648    1      3  2019  \n",
       "10682         No info  11753    9      5  2019  \n",
       "\n",
       "[10683 rows x 14 columns]"
      ]
     },
     "execution_count": 21,
     "metadata": {},
     "output_type": "execute_result"
    }
   ],
   "source": [
    "df2"
   ]
  },
  {
   "cell_type": "code",
   "execution_count": 22,
   "id": "f0bd7b57-0107-4c94-90e5-3e31aab7bfa9",
   "metadata": {},
   "outputs": [
    {
     "data": {
      "text/plain": [
       "array(['2h 50m', '7h 25m', '19h', '5h 25m', '4h 45m', '2h 25m', '15h 30m',\n",
       "       '21h 5m', '25h 30m', '7h 50m', '13h 15m', '2h 35m', '2h 15m',\n",
       "       '12h 10m', '26h 35m', '4h 30m', '22h 35m', '23h', '20h 35m',\n",
       "       '5h 10m', '15h 20m', '2h 55m', '13h 20m', '15h 10m', '5h 45m',\n",
       "       '5h 55m', '13h 25m', '22h', '5h 30m', '10h 25m', '5h 15m',\n",
       "       '2h 30m', '6h 15m', '11h 55m', '11h 5m', '8h 30m', '22h 5m',\n",
       "       '2h 45m', '12h', '16h 5m', '19h 55m', '3h 15m', '25h 20m', '3h',\n",
       "       '16h 15m', '15h 5m', '6h 30m', '25h 5m', '12h 25m', '27h 20m',\n",
       "       '10h 15m', '10h 30m', '1h 30m', '1h 25m', '26h 30m', '7h 20m',\n",
       "       '13h 30m', '5h', '19h 5m', '14h 50m', '2h 40m', '22h 10m',\n",
       "       '9h 35m', '10h', '21h 20m', '18h 45m', '12h 20m', '18h', '9h 15m',\n",
       "       '17h 30m', '16h 35m', '12h 15m', '7h 30m', '24h', '8h 55m',\n",
       "       '7h 10m', '14h 30m', '30h 20m', '15h', '12h 45m', '10h 10m',\n",
       "       '15h 25m', '14h 5m', '20h 15m', '23h 10m', '18h 10m', '16h',\n",
       "       '2h 20m', '8h', '16h 55m', '3h 10m', '14h', '23h 50m', '21h 40m',\n",
       "       '21h 15m', '10h 50m', '8h 15m', '8h 35m', '11h 50m', '27h 35m',\n",
       "       '8h 25m', '20h 55m', '4h 50m', '8h 10m', '24h 25m', '23h 35m',\n",
       "       '25h 45m', '26h 10m', '28h 50m', '25h 15m', '9h 20m', '9h 10m',\n",
       "       '3h 5m', '11h 30m', '9h 30m', '17h 35m', '5h 5m', '25h 50m', '20h',\n",
       "       '13h', '18h 25m', '24h 10m', '4h 55m', '25h 35m', '6h 20m',\n",
       "       '18h 40m', '19h 25m', '29h 20m', '9h 5m', '10h 45m', '11h 40m',\n",
       "       '22h 55m', '37h 25m', '25h 40m', '13h 55m', '8h 40m', '23h 30m',\n",
       "       '12h 35m', '24h 15m', '1h 20m', '11h', '11h 15m', '14h 35m',\n",
       "       '12h 55m', '9h', '7h 40m', '11h 45m', '24h 55m', '17h 5m',\n",
       "       '29h 55m', '22h 15m', '14h 40m', '7h 15m', '20h 10m', '20h 45m',\n",
       "       '27h', '24h 30m', '20h 25m', '5h 35m', '14h 45m', '5h 40m',\n",
       "       '4h 5m', '15h 55m', '7h 45m', '28h 20m', '4h 20m', '3h 40m',\n",
       "       '8h 50m', '23h 45m', '24h 45m', '21h 35m', '8h 5m', '6h 25m',\n",
       "       '15h 50m', '26h 25m', '24h 50m', '26h', '23h 5m', '7h 55m',\n",
       "       '26h 20m', '23h 15m', '5h 20m', '4h', '9h 45m', '8h 20m',\n",
       "       '17h 25m', '7h 5m', '34h 5m', '6h 5m', '5h 50m', '7h', '4h 25m',\n",
       "       '13h 45m', '19h 15m', '22h 30m', '16h 25m', '13h 50m', '27h 5m',\n",
       "       '28h 10m', '4h 40m', '15h 40m', '4h 35m', '18h 30m', '38h 15m',\n",
       "       '6h 35m', '12h 30m', '11h 20m', '7h 35m', '29h 35m', '26h 55m',\n",
       "       '23h 40m', '12h 50m', '9h 50m', '21h 55m', '10h 55m', '21h 10m',\n",
       "       '20h 40m', '30h', '13h 10m', '8h 45m', '6h 10m', '17h 45m',\n",
       "       '21h 45m', '3h 55m', '17h 20m', '30h 30m', '21h 25m', '12h 40m',\n",
       "       '24h 35m', '19h 10m', '22h 40m', '14h 55m', '21h', '6h 45m',\n",
       "       '28h 40m', '9h 40m', '16h 40m', '16h 20m', '16h 45m', '1h 15m',\n",
       "       '6h 55m', '11h 25m', '14h 20m', '12h 5m', '24h 5m', '28h 15m',\n",
       "       '17h 50m', '20h 20m', '28h 5m', '10h 20m', '14h 15m', '35h 15m',\n",
       "       '35h 35m', '26h 40m', '28h', '14h 25m', '13h 5m', '37h 20m',\n",
       "       '36h 10m', '25h 55m', '35h 5m', '19h 45m', '27h 55m', '47h',\n",
       "       '10h 35m', '1h 35m', '16h 10m', '38h 20m', '6h', '16h 50m',\n",
       "       '14h 10m', '23h 20m', '17h 40m', '11h 35m', '18h 20m', '6h 40m',\n",
       "       '30h 55m', '24h 40m', '29h 50m', '28h 25m', '17h 15m', '22h 45m',\n",
       "       '25h 25m', '21h 50m', '33h 15m', '30h 15m', '3h 35m', '27h 40m',\n",
       "       '30h 25m', '18h 50m', '27h 45m', '15h 15m', '10h 40m', '26h 15m',\n",
       "       '36h 25m', '26h 50m', '15h 45m', '19h 40m', '22h 25m', '19h 35m',\n",
       "       '25h', '26h 45m', '38h', '4h 15m', '25h 10m', '18h 15m', '6h 50m',\n",
       "       '23h 55m', '17h 55m', '23h 25m', '17h 10m', '24h 20m', '28h 30m',\n",
       "       '27h 10m', '19h 20m', '15h 35m', '9h 25m', '21h 30m', '34h 25m',\n",
       "       '18h 35m', '29h 40m', '26h 5m', '29h 5m', '27h 25m', '16h 30m',\n",
       "       '11h 10m', '28h 55m', '29h 10m', '34h', '30h 40m', '30h 45m',\n",
       "       '32h 55m', '10h 5m', '35h 20m', '32h 5m', '31h 40m', '19h 50m',\n",
       "       '33h 45m', '30h 10m', '13h 40m', '19h 30m', '31h 30m', '34h 30m',\n",
       "       '27h 50m', '38h 35m', '42h 5m', '4h 10m', '39h 5m', '3h 50m', '5m',\n",
       "       '32h 30m', '31h 55m', '33h 20m', '27h 30m', '18h 55m', '9h 55m',\n",
       "       '41h 20m', '20h 5m', '31h 50m', '42h 45m', '3h 25m', '37h 10m',\n",
       "       '29h 30m', '32h 20m', '20h 50m', '40h 20m', '13h 35m', '47h 40m'],\n",
       "      dtype=object)"
      ]
     },
     "execution_count": 22,
     "metadata": {},
     "output_type": "execute_result"
    }
   ],
   "source": [
    "df2[\"Duration\"].unique()"
   ]
  },
  {
   "cell_type": "code",
   "execution_count": 23,
   "id": "ac21c97d-5baa-4010-baf8-8a7023a433b7",
   "metadata": {},
   "outputs": [],
   "source": [
    "df2[['Hours', 'Minutes']] = df2['Duration'].str.split(' ', n=1, expand=True)"
   ]
  },
  {
   "cell_type": "code",
   "execution_count": 24,
   "id": "f8ded997-3a23-4206-bd5e-f6fd8cf79f41",
   "metadata": {},
   "outputs": [
    {
     "data": {
      "text/plain": [
       "array(['2h', '7h', '19h', '5h', '4h', '15h', '21h', '25h', '13h', '12h',\n",
       "       '26h', '22h', '23h', '20h', '10h', '6h', '11h', '8h', '16h', '3h',\n",
       "       '27h', '1h', '14h', '9h', '18h', '17h', '24h', '30h', '28h', '29h',\n",
       "       '37h', '34h', '38h', '35h', '36h', '47h', '33h', '32h', '31h',\n",
       "       '42h', '39h', '5m', '41h', '40h'], dtype=object)"
      ]
     },
     "execution_count": 24,
     "metadata": {},
     "output_type": "execute_result"
    }
   ],
   "source": [
    "df2['Hours'].unique()"
   ]
  },
  {
   "cell_type": "code",
   "execution_count": 25,
   "id": "7c92233e-b227-4285-9d24-e8d0cf81a461",
   "metadata": {},
   "outputs": [
    {
     "data": {
      "text/html": [
       "<div>\n",
       "<style scoped>\n",
       "    .dataframe tbody tr th:only-of-type {\n",
       "        vertical-align: middle;\n",
       "    }\n",
       "\n",
       "    .dataframe tbody tr th {\n",
       "        vertical-align: top;\n",
       "    }\n",
       "\n",
       "    .dataframe thead th {\n",
       "        text-align: right;\n",
       "    }\n",
       "</style>\n",
       "<table border=\"1\" class=\"dataframe\">\n",
       "  <thead>\n",
       "    <tr style=\"text-align: right;\">\n",
       "      <th></th>\n",
       "      <th>Airline</th>\n",
       "      <th>Date_of_Journey</th>\n",
       "      <th>Source</th>\n",
       "      <th>Destination</th>\n",
       "      <th>Route</th>\n",
       "      <th>Dep_Time</th>\n",
       "      <th>Arrival_Time</th>\n",
       "      <th>Duration</th>\n",
       "      <th>Total_Stops</th>\n",
       "      <th>Additional_Info</th>\n",
       "      <th>Price</th>\n",
       "      <th>Day</th>\n",
       "      <th>Month</th>\n",
       "      <th>Year</th>\n",
       "      <th>Hours</th>\n",
       "      <th>Minutes</th>\n",
       "    </tr>\n",
       "  </thead>\n",
       "  <tbody>\n",
       "    <tr>\n",
       "      <th>6474</th>\n",
       "      <td>Air India</td>\n",
       "      <td>2019-03-06</td>\n",
       "      <td>Mumbai</td>\n",
       "      <td>Hyderabad</td>\n",
       "      <td>BOM → GOI → PNQ → HYD</td>\n",
       "      <td>16:50</td>\n",
       "      <td>16:55</td>\n",
       "      <td>5m</td>\n",
       "      <td>2 stops</td>\n",
       "      <td>No info</td>\n",
       "      <td>17327</td>\n",
       "      <td>6</td>\n",
       "      <td>3</td>\n",
       "      <td>2019</td>\n",
       "      <td>5m</td>\n",
       "      <td>None</td>\n",
       "    </tr>\n",
       "  </tbody>\n",
       "</table>\n",
       "</div>"
      ],
      "text/plain": [
       "        Airline Date_of_Journey  Source Destination                  Route  \\\n",
       "6474  Air India      2019-03-06  Mumbai   Hyderabad  BOM → GOI → PNQ → HYD   \n",
       "\n",
       "     Dep_Time Arrival_Time Duration Total_Stops Additional_Info  Price  Day  \\\n",
       "6474    16:50        16:55       5m     2 stops         No info  17327    6   \n",
       "\n",
       "      Month  Year Hours Minutes  \n",
       "6474      3  2019    5m    None  "
      ]
     },
     "execution_count": 25,
     "metadata": {},
     "output_type": "execute_result"
    }
   ],
   "source": [
    "df2[df2['Hours']=='5m']"
   ]
  },
  {
   "cell_type": "code",
   "execution_count": 27,
   "id": "e18af82c-f6aa-4925-af38-8f0945d0bf50",
   "metadata": {},
   "outputs": [],
   "source": [
    "df2=df2.drop(df2.index[6474])"
   ]
  },
  {
   "cell_type": "code",
   "execution_count": 28,
   "id": "f5dc0364-a525-4799-becc-8ed43563f3bc",
   "metadata": {},
   "outputs": [],
   "source": [
    "df2['Hours']=df2['Hours'].str.replace(\"h\",\" \",regex=False)"
   ]
  },
  {
   "cell_type": "code",
   "execution_count": 29,
   "id": "65d722dd-3620-4e58-8360-6a39d148b45a",
   "metadata": {},
   "outputs": [],
   "source": [
    "df2['Hours']=df2[\"Hours\"].astype(int)"
   ]
  },
  {
   "cell_type": "code",
   "execution_count": 30,
   "id": "40c08954-e5a4-4659-8e00-51597cc370a4",
   "metadata": {},
   "outputs": [
    {
     "data": {
      "text/plain": [
       "array(['50m', '25m', None, '45m', '30m', '5m', '15m', '35m', '10m', '20m',\n",
       "       '55m', '40m'], dtype=object)"
      ]
     },
     "execution_count": 30,
     "metadata": {},
     "output_type": "execute_result"
    }
   ],
   "source": [
    "df2['Minutes'].unique()"
   ]
  },
  {
   "cell_type": "code",
   "execution_count": 31,
   "id": "ae4aac48-20b5-4cb3-8fda-21e0d274c7e0",
   "metadata": {},
   "outputs": [],
   "source": [
    "df2['Minutes']=df2['Minutes'].str.replace(\"m\",\" \",regex=False)"
   ]
  },
  {
   "cell_type": "code",
   "execution_count": 32,
   "id": "df2e92ba-b73b-4fac-87e2-afa779c00367",
   "metadata": {},
   "outputs": [
    {
     "data": {
      "text/plain": [
       "array(['50 ', '25 ', None, '45 ', '30 ', '5 ', '15 ', '35 ', '10 ', '20 ',\n",
       "       '55 ', '40 '], dtype=object)"
      ]
     },
     "execution_count": 32,
     "metadata": {},
     "output_type": "execute_result"
    }
   ],
   "source": [
    "df2[\"Minutes\"].unique()"
   ]
  },
  {
   "cell_type": "code",
   "execution_count": 33,
   "id": "789b426b-f69b-49ec-9f6f-e3fab8b7eb57",
   "metadata": {},
   "outputs": [
    {
     "name": "stderr",
     "output_type": "stream",
     "text": [
      "C:\\Users\\admin\\AppData\\Local\\Temp\\ipykernel_13280\\3048482956.py:1: FutureWarning: A value is trying to be set on a copy of a DataFrame or Series through chained assignment using an inplace method.\n",
      "The behavior will change in pandas 3.0. This inplace method will never work because the intermediate object on which we are setting values always behaves as a copy.\n",
      "\n",
      "For example, when doing 'df[col].method(value, inplace=True)', try using 'df.method({col: value}, inplace=True)' or df[col] = df[col].method(value) instead, to perform the operation inplace on the original object.\n",
      "\n",
      "\n",
      "  df2[\"Minutes\"].fillna(0,inplace=True)\n"
     ]
    }
   ],
   "source": [
    "df2[\"Minutes\"].fillna(0,inplace=True)"
   ]
  },
  {
   "cell_type": "code",
   "execution_count": 34,
   "id": "a7118906-4e8b-4db1-abe9-4da2342417b7",
   "metadata": {},
   "outputs": [],
   "source": [
    "df2[\"Minutes\"]=df2[\"Minutes\"].astype(int)"
   ]
  },
  {
   "cell_type": "code",
   "execution_count": 35,
   "id": "39f084f3-b140-46cd-97e2-c49aff0bc12e",
   "metadata": {},
   "outputs": [
    {
     "data": {
      "text/plain": [
       "Airline            0\n",
       "Date_of_Journey    0\n",
       "Source             0\n",
       "Destination        0\n",
       "Route              1\n",
       "Dep_Time           0\n",
       "Arrival_Time       0\n",
       "Duration           0\n",
       "Total_Stops        1\n",
       "Additional_Info    0\n",
       "Price              0\n",
       "Day                0\n",
       "Month              0\n",
       "Year               0\n",
       "Hours              0\n",
       "Minutes            0\n",
       "dtype: int64"
      ]
     },
     "execution_count": 35,
     "metadata": {},
     "output_type": "execute_result"
    }
   ],
   "source": [
    "df2.isnull().sum()"
   ]
  },
  {
   "cell_type": "code",
   "execution_count": 38,
   "id": "23624731-df1d-46c2-b608-9b8e102df691",
   "metadata": {},
   "outputs": [],
   "source": [
    "df2.dropna(subset=['Route'],inplace=True)"
   ]
  },
  {
   "cell_type": "code",
   "execution_count": 48,
   "id": "53033a4d-be7e-4465-ac5d-b29104c55c78",
   "metadata": {},
   "outputs": [
    {
     "data": {
      "text/plain": [
       "0"
      ]
     },
     "execution_count": 48,
     "metadata": {},
     "output_type": "execute_result"
    }
   ],
   "source": [
    "df2['Route'].isnull().sum()"
   ]
  },
  {
   "cell_type": "code",
   "execution_count": 58,
   "id": "7afd6b90-c16c-4c81-911c-8ad0a3c0c23e",
   "metadata": {},
   "outputs": [
    {
     "data": {
      "text/plain": [
       "array(['non-stop', '2 stops', '1 stop', '3 stops', '4 stops'],\n",
       "      dtype=object)"
      ]
     },
     "execution_count": 58,
     "metadata": {},
     "output_type": "execute_result"
    }
   ],
   "source": [
    "df2[\"Total_Stops\"].unique()"
   ]
  },
  {
   "cell_type": "code",
   "execution_count": 68,
   "id": "25de0645-47f5-44db-90e1-8da93fc91ddf",
   "metadata": {},
   "outputs": [],
   "source": [
    "df2.dropna(subset=[\"Total_Stops\"],inplace=True)"
   ]
  },
  {
   "cell_type": "code",
   "execution_count": 74,
   "id": "a07c5b8d-b8ca-41af-92b9-7870bbf487e5",
   "metadata": {},
   "outputs": [
    {
     "data": {
      "text/plain": [
       "0"
      ]
     },
     "execution_count": 74,
     "metadata": {},
     "output_type": "execute_result"
    }
   ],
   "source": [
    "df2[\"Total_Stops\"].isnull().sum()"
   ]
  },
  {
   "cell_type": "code",
   "execution_count": 76,
   "id": "b50163b1-17d6-47db-8760-d62a267c838e",
   "metadata": {},
   "outputs": [
    {
     "data": {
      "text/plain": [
       "Airline            0\n",
       "Date_of_Journey    0\n",
       "Source             0\n",
       "Destination        0\n",
       "Route              0\n",
       "Dep_Time           0\n",
       "Arrival_Time       0\n",
       "Duration           0\n",
       "Total_Stops        0\n",
       "Additional_Info    0\n",
       "Price              0\n",
       "Day                0\n",
       "Month              0\n",
       "Year               0\n",
       "Hours              0\n",
       "Minutes            0\n",
       "dtype: int64"
      ]
     },
     "execution_count": 76,
     "metadata": {},
     "output_type": "execute_result"
    }
   ],
   "source": [
    "df2.isnull().sum()"
   ]
  },
  {
   "cell_type": "code",
   "execution_count": 79,
   "id": "89243f54-bf80-46c0-a389-49025d58ca1f",
   "metadata": {},
   "outputs": [
    {
     "data": {
      "text/plain": [
       "array([ 3897,  7662, 13882, ...,  9790, 12352, 12648], dtype=int64)"
      ]
     },
     "execution_count": 79,
     "metadata": {},
     "output_type": "execute_result"
    }
   ],
   "source": [
    "df2[\"Price\"].unique()"
   ]
  },
  {
   "cell_type": "code",
   "execution_count": 82,
   "id": "d7ffc721-4f20-425b-bcac-1130120941a6",
   "metadata": {},
   "outputs": [
    {
     "data": {
      "text/html": [
       "<div>\n",
       "<style scoped>\n",
       "    .dataframe tbody tr th:only-of-type {\n",
       "        vertical-align: middle;\n",
       "    }\n",
       "\n",
       "    .dataframe tbody tr th {\n",
       "        vertical-align: top;\n",
       "    }\n",
       "\n",
       "    .dataframe thead th {\n",
       "        text-align: right;\n",
       "    }\n",
       "</style>\n",
       "<table border=\"1\" class=\"dataframe\">\n",
       "  <thead>\n",
       "    <tr style=\"text-align: right;\">\n",
       "      <th></th>\n",
       "      <th>Airline</th>\n",
       "      <th>Date_of_Journey</th>\n",
       "      <th>Source</th>\n",
       "      <th>Destination</th>\n",
       "      <th>Route</th>\n",
       "      <th>Dep_Time</th>\n",
       "      <th>Arrival_Time</th>\n",
       "      <th>Duration</th>\n",
       "      <th>Total_Stops</th>\n",
       "      <th>Additional_Info</th>\n",
       "      <th>Price</th>\n",
       "      <th>Day</th>\n",
       "      <th>Month</th>\n",
       "      <th>Year</th>\n",
       "      <th>Hours</th>\n",
       "      <th>Minutes</th>\n",
       "    </tr>\n",
       "  </thead>\n",
       "  <tbody>\n",
       "    <tr>\n",
       "      <th>0</th>\n",
       "      <td>IndiGo</td>\n",
       "      <td>2019-03-24</td>\n",
       "      <td>Banglore</td>\n",
       "      <td>New Delhi</td>\n",
       "      <td>BLR → DEL</td>\n",
       "      <td>22:20</td>\n",
       "      <td>01:10 22 Mar</td>\n",
       "      <td>2h 50m</td>\n",
       "      <td>non-stop</td>\n",
       "      <td>No info</td>\n",
       "      <td>3897</td>\n",
       "      <td>24</td>\n",
       "      <td>3</td>\n",
       "      <td>2019</td>\n",
       "      <td>2</td>\n",
       "      <td>50</td>\n",
       "    </tr>\n",
       "    <tr>\n",
       "      <th>1</th>\n",
       "      <td>Air India</td>\n",
       "      <td>2019-05-01</td>\n",
       "      <td>Kolkata</td>\n",
       "      <td>Banglore</td>\n",
       "      <td>CCU → IXR → BBI → BLR</td>\n",
       "      <td>05:50</td>\n",
       "      <td>13:15</td>\n",
       "      <td>7h 25m</td>\n",
       "      <td>2 stops</td>\n",
       "      <td>No info</td>\n",
       "      <td>7662</td>\n",
       "      <td>1</td>\n",
       "      <td>5</td>\n",
       "      <td>2019</td>\n",
       "      <td>7</td>\n",
       "      <td>25</td>\n",
       "    </tr>\n",
       "    <tr>\n",
       "      <th>2</th>\n",
       "      <td>Jet Airways</td>\n",
       "      <td>2019-06-09</td>\n",
       "      <td>Delhi</td>\n",
       "      <td>Cochin</td>\n",
       "      <td>DEL → LKO → BOM → COK</td>\n",
       "      <td>09:25</td>\n",
       "      <td>04:25 10 Jun</td>\n",
       "      <td>19h</td>\n",
       "      <td>2 stops</td>\n",
       "      <td>No info</td>\n",
       "      <td>13882</td>\n",
       "      <td>9</td>\n",
       "      <td>6</td>\n",
       "      <td>2019</td>\n",
       "      <td>19</td>\n",
       "      <td>0</td>\n",
       "    </tr>\n",
       "    <tr>\n",
       "      <th>3</th>\n",
       "      <td>IndiGo</td>\n",
       "      <td>2019-05-12</td>\n",
       "      <td>Kolkata</td>\n",
       "      <td>Banglore</td>\n",
       "      <td>CCU → NAG → BLR</td>\n",
       "      <td>18:05</td>\n",
       "      <td>23:30</td>\n",
       "      <td>5h 25m</td>\n",
       "      <td>1 stop</td>\n",
       "      <td>No info</td>\n",
       "      <td>6218</td>\n",
       "      <td>12</td>\n",
       "      <td>5</td>\n",
       "      <td>2019</td>\n",
       "      <td>5</td>\n",
       "      <td>25</td>\n",
       "    </tr>\n",
       "    <tr>\n",
       "      <th>4</th>\n",
       "      <td>IndiGo</td>\n",
       "      <td>2019-03-01</td>\n",
       "      <td>Banglore</td>\n",
       "      <td>New Delhi</td>\n",
       "      <td>BLR → NAG → DEL</td>\n",
       "      <td>16:50</td>\n",
       "      <td>21:35</td>\n",
       "      <td>4h 45m</td>\n",
       "      <td>1 stop</td>\n",
       "      <td>No info</td>\n",
       "      <td>13302</td>\n",
       "      <td>1</td>\n",
       "      <td>3</td>\n",
       "      <td>2019</td>\n",
       "      <td>4</td>\n",
       "      <td>45</td>\n",
       "    </tr>\n",
       "    <tr>\n",
       "      <th>...</th>\n",
       "      <td>...</td>\n",
       "      <td>...</td>\n",
       "      <td>...</td>\n",
       "      <td>...</td>\n",
       "      <td>...</td>\n",
       "      <td>...</td>\n",
       "      <td>...</td>\n",
       "      <td>...</td>\n",
       "      <td>...</td>\n",
       "      <td>...</td>\n",
       "      <td>...</td>\n",
       "      <td>...</td>\n",
       "      <td>...</td>\n",
       "      <td>...</td>\n",
       "      <td>...</td>\n",
       "      <td>...</td>\n",
       "    </tr>\n",
       "    <tr>\n",
       "      <th>10678</th>\n",
       "      <td>Air Asia</td>\n",
       "      <td>2019-04-09</td>\n",
       "      <td>Kolkata</td>\n",
       "      <td>Banglore</td>\n",
       "      <td>CCU → BLR</td>\n",
       "      <td>19:55</td>\n",
       "      <td>22:25</td>\n",
       "      <td>2h 30m</td>\n",
       "      <td>non-stop</td>\n",
       "      <td>No info</td>\n",
       "      <td>4107</td>\n",
       "      <td>9</td>\n",
       "      <td>4</td>\n",
       "      <td>2019</td>\n",
       "      <td>2</td>\n",
       "      <td>30</td>\n",
       "    </tr>\n",
       "    <tr>\n",
       "      <th>10679</th>\n",
       "      <td>Air India</td>\n",
       "      <td>2019-04-27</td>\n",
       "      <td>Kolkata</td>\n",
       "      <td>Banglore</td>\n",
       "      <td>CCU → BLR</td>\n",
       "      <td>20:45</td>\n",
       "      <td>23:20</td>\n",
       "      <td>2h 35m</td>\n",
       "      <td>non-stop</td>\n",
       "      <td>No info</td>\n",
       "      <td>4145</td>\n",
       "      <td>27</td>\n",
       "      <td>4</td>\n",
       "      <td>2019</td>\n",
       "      <td>2</td>\n",
       "      <td>35</td>\n",
       "    </tr>\n",
       "    <tr>\n",
       "      <th>10680</th>\n",
       "      <td>Jet Airways</td>\n",
       "      <td>2019-04-27</td>\n",
       "      <td>Banglore</td>\n",
       "      <td>Delhi</td>\n",
       "      <td>BLR → DEL</td>\n",
       "      <td>08:20</td>\n",
       "      <td>11:20</td>\n",
       "      <td>3h</td>\n",
       "      <td>non-stop</td>\n",
       "      <td>No info</td>\n",
       "      <td>7229</td>\n",
       "      <td>27</td>\n",
       "      <td>4</td>\n",
       "      <td>2019</td>\n",
       "      <td>3</td>\n",
       "      <td>0</td>\n",
       "    </tr>\n",
       "    <tr>\n",
       "      <th>10681</th>\n",
       "      <td>Vistara</td>\n",
       "      <td>2019-03-01</td>\n",
       "      <td>Banglore</td>\n",
       "      <td>New Delhi</td>\n",
       "      <td>BLR → DEL</td>\n",
       "      <td>11:30</td>\n",
       "      <td>14:10</td>\n",
       "      <td>2h 40m</td>\n",
       "      <td>non-stop</td>\n",
       "      <td>No info</td>\n",
       "      <td>12648</td>\n",
       "      <td>1</td>\n",
       "      <td>3</td>\n",
       "      <td>2019</td>\n",
       "      <td>2</td>\n",
       "      <td>40</td>\n",
       "    </tr>\n",
       "    <tr>\n",
       "      <th>10682</th>\n",
       "      <td>Air India</td>\n",
       "      <td>2019-05-09</td>\n",
       "      <td>Delhi</td>\n",
       "      <td>Cochin</td>\n",
       "      <td>DEL → GOI → BOM → COK</td>\n",
       "      <td>10:55</td>\n",
       "      <td>19:15</td>\n",
       "      <td>8h 20m</td>\n",
       "      <td>2 stops</td>\n",
       "      <td>No info</td>\n",
       "      <td>11753</td>\n",
       "      <td>9</td>\n",
       "      <td>5</td>\n",
       "      <td>2019</td>\n",
       "      <td>8</td>\n",
       "      <td>20</td>\n",
       "    </tr>\n",
       "  </tbody>\n",
       "</table>\n",
       "<p>10681 rows × 16 columns</p>\n",
       "</div>"
      ],
      "text/plain": [
       "           Airline Date_of_Journey    Source Destination  \\\n",
       "0           IndiGo      2019-03-24  Banglore   New Delhi   \n",
       "1        Air India      2019-05-01   Kolkata    Banglore   \n",
       "2      Jet Airways      2019-06-09     Delhi      Cochin   \n",
       "3           IndiGo      2019-05-12   Kolkata    Banglore   \n",
       "4           IndiGo      2019-03-01  Banglore   New Delhi   \n",
       "...            ...             ...       ...         ...   \n",
       "10678     Air Asia      2019-04-09   Kolkata    Banglore   \n",
       "10679    Air India      2019-04-27   Kolkata    Banglore   \n",
       "10680  Jet Airways      2019-04-27  Banglore       Delhi   \n",
       "10681      Vistara      2019-03-01  Banglore   New Delhi   \n",
       "10682    Air India      2019-05-09     Delhi      Cochin   \n",
       "\n",
       "                       Route Dep_Time  Arrival_Time Duration Total_Stops  \\\n",
       "0                  BLR → DEL    22:20  01:10 22 Mar   2h 50m    non-stop   \n",
       "1      CCU → IXR → BBI → BLR    05:50         13:15   7h 25m     2 stops   \n",
       "2      DEL → LKO → BOM → COK    09:25  04:25 10 Jun      19h     2 stops   \n",
       "3            CCU → NAG → BLR    18:05         23:30   5h 25m      1 stop   \n",
       "4            BLR → NAG → DEL    16:50         21:35   4h 45m      1 stop   \n",
       "...                      ...      ...           ...      ...         ...   \n",
       "10678              CCU → BLR    19:55         22:25   2h 30m    non-stop   \n",
       "10679              CCU → BLR    20:45         23:20   2h 35m    non-stop   \n",
       "10680              BLR → DEL    08:20         11:20       3h    non-stop   \n",
       "10681              BLR → DEL    11:30         14:10   2h 40m    non-stop   \n",
       "10682  DEL → GOI → BOM → COK    10:55         19:15   8h 20m     2 stops   \n",
       "\n",
       "      Additional_Info  Price  Day  Month  Year  Hours  Minutes  \n",
       "0             No info   3897   24      3  2019      2       50  \n",
       "1             No info   7662    1      5  2019      7       25  \n",
       "2             No info  13882    9      6  2019     19        0  \n",
       "3             No info   6218   12      5  2019      5       25  \n",
       "4             No info  13302    1      3  2019      4       45  \n",
       "...               ...    ...  ...    ...   ...    ...      ...  \n",
       "10678         No info   4107    9      4  2019      2       30  \n",
       "10679         No info   4145   27      4  2019      2       35  \n",
       "10680         No info   7229   27      4  2019      3        0  \n",
       "10681         No info  12648    1      3  2019      2       40  \n",
       "10682         No info  11753    9      5  2019      8       20  \n",
       "\n",
       "[10681 rows x 16 columns]"
      ]
     },
     "execution_count": 82,
     "metadata": {},
     "output_type": "execute_result"
    }
   ],
   "source": [
    "df2"
   ]
  },
  {
   "cell_type": "code",
   "execution_count": 84,
   "id": "bfaee448-3f2c-4530-a68a-61c6796abd9c",
   "metadata": {},
   "outputs": [
    {
     "name": "stdout",
     "output_type": "stream",
     "text": [
      "<class 'pandas.core.frame.DataFrame'>\n",
      "Index: 10681 entries, 0 to 10682\n",
      "Data columns (total 16 columns):\n",
      " #   Column           Non-Null Count  Dtype \n",
      "---  ------           --------------  ----- \n",
      " 0   Airline          10681 non-null  object\n",
      " 1   Date_of_Journey  10681 non-null  object\n",
      " 2   Source           10681 non-null  object\n",
      " 3   Destination      10681 non-null  object\n",
      " 4   Route            10681 non-null  object\n",
      " 5   Dep_Time         10681 non-null  object\n",
      " 6   Arrival_Time     10681 non-null  object\n",
      " 7   Duration         10681 non-null  object\n",
      " 8   Total_Stops      10681 non-null  object\n",
      " 9   Additional_Info  10681 non-null  object\n",
      " 10  Price            10681 non-null  int64 \n",
      " 11  Day              10681 non-null  int32 \n",
      " 12  Month            10681 non-null  int32 \n",
      " 13  Year             10681 non-null  int32 \n",
      " 14  Hours            10681 non-null  int32 \n",
      " 15  Minutes          10681 non-null  int32 \n",
      "dtypes: int32(5), int64(1), object(10)\n",
      "memory usage: 1.2+ MB\n"
     ]
    }
   ],
   "source": [
    "df2.info()"
   ]
  },
  {
   "cell_type": "code",
   "execution_count": 86,
   "id": "552ae7e3-b144-435f-94a6-268e390b47af",
   "metadata": {},
   "outputs": [
    {
     "data": {
      "text/plain": [
       "array(['01:10 22 Mar', '13:15', '04:25 10 Jun', ..., '06:50 10 Mar',\n",
       "       '00:05 19 Mar', '21:20 13 Mar'], dtype=object)"
      ]
     },
     "execution_count": 86,
     "metadata": {},
     "output_type": "execute_result"
    }
   ],
   "source": [
    "df2['Arrival_Time'].unique()"
   ]
  },
  {
   "cell_type": "code",
   "execution_count": 88,
   "id": "5f75400c-125c-4e43-952f-828884bdbbdb",
   "metadata": {},
   "outputs": [],
   "source": [
    "df2[['Arrival_time' , 'Arrival_Date']] = df2['Arrival_Time'].str.split(' ', n=1, expand=True)"
   ]
  },
  {
   "cell_type": "code",
   "execution_count": 90,
   "id": "4c73da55-5f0d-46ec-927a-8b0d76122c5a",
   "metadata": {},
   "outputs": [
    {
     "data": {
      "text/html": [
       "<div>\n",
       "<style scoped>\n",
       "    .dataframe tbody tr th:only-of-type {\n",
       "        vertical-align: middle;\n",
       "    }\n",
       "\n",
       "    .dataframe tbody tr th {\n",
       "        vertical-align: top;\n",
       "    }\n",
       "\n",
       "    .dataframe thead th {\n",
       "        text-align: right;\n",
       "    }\n",
       "</style>\n",
       "<table border=\"1\" class=\"dataframe\">\n",
       "  <thead>\n",
       "    <tr style=\"text-align: right;\">\n",
       "      <th></th>\n",
       "      <th>Arrival_time</th>\n",
       "      <th>Arrival_Date</th>\n",
       "    </tr>\n",
       "  </thead>\n",
       "  <tbody>\n",
       "    <tr>\n",
       "      <th>0</th>\n",
       "      <td>01:10</td>\n",
       "      <td>22 Mar</td>\n",
       "    </tr>\n",
       "    <tr>\n",
       "      <th>1</th>\n",
       "      <td>13:15</td>\n",
       "      <td>None</td>\n",
       "    </tr>\n",
       "    <tr>\n",
       "      <th>2</th>\n",
       "      <td>04:25</td>\n",
       "      <td>10 Jun</td>\n",
       "    </tr>\n",
       "    <tr>\n",
       "      <th>3</th>\n",
       "      <td>23:30</td>\n",
       "      <td>None</td>\n",
       "    </tr>\n",
       "    <tr>\n",
       "      <th>4</th>\n",
       "      <td>21:35</td>\n",
       "      <td>None</td>\n",
       "    </tr>\n",
       "    <tr>\n",
       "      <th>...</th>\n",
       "      <td>...</td>\n",
       "      <td>...</td>\n",
       "    </tr>\n",
       "    <tr>\n",
       "      <th>10678</th>\n",
       "      <td>22:25</td>\n",
       "      <td>None</td>\n",
       "    </tr>\n",
       "    <tr>\n",
       "      <th>10679</th>\n",
       "      <td>23:20</td>\n",
       "      <td>None</td>\n",
       "    </tr>\n",
       "    <tr>\n",
       "      <th>10680</th>\n",
       "      <td>11:20</td>\n",
       "      <td>None</td>\n",
       "    </tr>\n",
       "    <tr>\n",
       "      <th>10681</th>\n",
       "      <td>14:10</td>\n",
       "      <td>None</td>\n",
       "    </tr>\n",
       "    <tr>\n",
       "      <th>10682</th>\n",
       "      <td>19:15</td>\n",
       "      <td>None</td>\n",
       "    </tr>\n",
       "  </tbody>\n",
       "</table>\n",
       "<p>10681 rows × 2 columns</p>\n",
       "</div>"
      ],
      "text/plain": [
       "      Arrival_time Arrival_Date\n",
       "0            01:10       22 Mar\n",
       "1            13:15         None\n",
       "2            04:25       10 Jun\n",
       "3            23:30         None\n",
       "4            21:35         None\n",
       "...            ...          ...\n",
       "10678        22:25         None\n",
       "10679        23:20         None\n",
       "10680        11:20         None\n",
       "10681        14:10         None\n",
       "10682        19:15         None\n",
       "\n",
       "[10681 rows x 2 columns]"
      ]
     },
     "execution_count": 90,
     "metadata": {},
     "output_type": "execute_result"
    }
   ],
   "source": [
    "df2[['Arrival_time' , 'Arrival_Date']]"
   ]
  },
  {
   "cell_type": "code",
   "execution_count": 92,
   "id": "0ec7afc6-20a5-4fe8-a79f-ab9931903844",
   "metadata": {},
   "outputs": [],
   "source": [
    "df2.drop('Arrival_Date', axis=1, inplace=True)"
   ]
  },
  {
   "cell_type": "code",
   "execution_count": 96,
   "id": "2ff7fccc-4f87-4680-a152-b5b07b3979f7",
   "metadata": {},
   "outputs": [],
   "source": [
    "df2.drop(\"Arrival_Time\",axis=1, inplace=True)"
   ]
  },
  {
   "cell_type": "code",
   "execution_count": 98,
   "id": "527969a3-6600-43ba-ba29-f4aab7c7af2f",
   "metadata": {},
   "outputs": [
    {
     "name": "stdout",
     "output_type": "stream",
     "text": [
      "<class 'pandas.core.frame.DataFrame'>\n",
      "Index: 10681 entries, 0 to 10682\n",
      "Data columns (total 16 columns):\n",
      " #   Column           Non-Null Count  Dtype \n",
      "---  ------           --------------  ----- \n",
      " 0   Airline          10681 non-null  object\n",
      " 1   Date_of_Journey  10681 non-null  object\n",
      " 2   Source           10681 non-null  object\n",
      " 3   Destination      10681 non-null  object\n",
      " 4   Route            10681 non-null  object\n",
      " 5   Dep_Time         10681 non-null  object\n",
      " 6   Duration         10681 non-null  object\n",
      " 7   Total_Stops      10681 non-null  object\n",
      " 8   Additional_Info  10681 non-null  object\n",
      " 9   Price            10681 non-null  int64 \n",
      " 10  Day              10681 non-null  int32 \n",
      " 11  Month            10681 non-null  int32 \n",
      " 12  Year             10681 non-null  int32 \n",
      " 13  Hours            10681 non-null  int32 \n",
      " 14  Minutes          10681 non-null  int32 \n",
      " 15  Arrival_time     10681 non-null  object\n",
      "dtypes: int32(5), int64(1), object(10)\n",
      "memory usage: 1.2+ MB\n"
     ]
    }
   ],
   "source": [
    "df2.info()"
   ]
  },
  {
   "cell_type": "code",
   "execution_count": 100,
   "id": "3d4e57af-ba52-4cda-96c3-f3632b8d8764",
   "metadata": {},
   "outputs": [
    {
     "data": {
      "text/plain": [
       "array(['01:10', '13:15', '04:25', '23:30', '21:35', '11:25', '10:25',\n",
       "       '05:05', '19:15', '23:00', '22:55', '13:55', '09:20', '19:50',\n",
       "       '12:35', '19:20', '13:20', '06:50', '21:50', '08:15', '03:35',\n",
       "       '12:55', '23:15', '21:00', '20:20', '16:45', '19:00', '18:10',\n",
       "       '15:15', '08:35', '11:05', '14:15', '10:55', '00:15', '02:45',\n",
       "       '12:00', '23:55', '01:30', '09:25', '15:25', '15:35', '08:30',\n",
       "       '10:05', '14:30', '07:55', '10:35', '22:35', '04:40', '07:25',\n",
       "       '20:45', '14:25', '22:30', '23:20', '07:40', '22:50', '14:35',\n",
       "       '08:55', '18:50', '09:05', '01:35', '09:40', '16:25', '11:10',\n",
       "       '17:05', '17:50', '23:10', '08:45', '07:45', '16:10', '00:55',\n",
       "       '23:35', '20:00', '00:40', '21:45', '18:15', '03:25', '04:15',\n",
       "       '21:10', '21:05', '09:45', '18:05', '22:00', '15:30', '08:50',\n",
       "       '08:00', '19:35', '11:20', '10:15', '12:45', '02:20', '07:15',\n",
       "       '11:50', '18:30', '19:45', '21:20', '20:05', '09:10', '22:20',\n",
       "       '10:10', '01:00', '23:50', '12:20', '20:25', '22:45', '21:25',\n",
       "       '14:05', '00:05', '19:55', '16:20', '07:05', '19:10', '12:05',\n",
       "       '04:05', '19:40', '17:55', '17:25', '00:30', '23:40', '23:05',\n",
       "       '00:50', '13:45', '09:15', '20:35', '07:10', '09:35', '14:20',\n",
       "       '04:45', '10:30', '19:25', '05:35', '09:00', '22:40', '14:45',\n",
       "       '13:25', '21:55', '10:45', '10:40', '13:00', '22:10', '18:35',\n",
       "       '05:25', '22:15', '12:10', '12:15', '14:00', '02:15', '12:50',\n",
       "       '17:15', '07:35', '23:45', '22:25', '12:25', '06:35', '01:20',\n",
       "       '18:45', '09:30', '04:20', '10:50', '23:25', '22:05', '13:30',\n",
       "       '13:35', '17:35', '08:20', '18:25', '10:20', '15:50', '11:30',\n",
       "       '14:10', '00:25', '03:15', '15:55', '00:45', '04:35', '18:00',\n",
       "       '12:30', '02:10', '00:20', '21:40', '08:40', '16:55', '20:30',\n",
       "       '17:20', '00:35', '20:15', '14:50', '13:40', '16:50', '15:05',\n",
       "       '17:45', '18:40', '03:10', '16:40', '09:50', '13:05', '17:40',\n",
       "       '20:40', '17:10', '20:50', '00:10', '08:10', '16:15', '16:05',\n",
       "       '10:00', '16:35', '18:20', '04:00', '21:15', '14:40', '01:45',\n",
       "       '16:30', '11:55', '15:20', '20:10', '15:00', '15:45', '12:40',\n",
       "       '15:10', '13:10', '11:15', '03:40', '16:00', '11:35'], dtype=object)"
      ]
     },
     "execution_count": 100,
     "metadata": {},
     "output_type": "execute_result"
    }
   ],
   "source": [
    "df2['Arrival_time'].unique()"
   ]
  },
  {
   "cell_type": "code",
   "execution_count": 110,
   "id": "68aa82b3-2ef9-42bf-8109-8925c9dec7f3",
   "metadata": {},
   "outputs": [],
   "source": [
    "df2['Arrival_time']=pd.to_datetime(df2['Arrival_time'], format='%H:%M').dt.time"
   ]
  },
  {
   "cell_type": "code",
   "execution_count": 112,
   "id": "1dced080-761b-4d1a-9b3e-b67619f5fdd7",
   "metadata": {},
   "outputs": [
    {
     "data": {
      "text/plain": [
       "array([datetime.time(1, 10), datetime.time(13, 15), datetime.time(4, 25),\n",
       "       datetime.time(23, 30), datetime.time(21, 35),\n",
       "       datetime.time(11, 25), datetime.time(10, 25), datetime.time(5, 5),\n",
       "       datetime.time(19, 15), datetime.time(23, 0), datetime.time(22, 55),\n",
       "       datetime.time(13, 55), datetime.time(9, 20), datetime.time(19, 50),\n",
       "       datetime.time(12, 35), datetime.time(19, 20),\n",
       "       datetime.time(13, 20), datetime.time(6, 50), datetime.time(21, 50),\n",
       "       datetime.time(8, 15), datetime.time(3, 35), datetime.time(12, 55),\n",
       "       datetime.time(23, 15), datetime.time(21, 0), datetime.time(20, 20),\n",
       "       datetime.time(16, 45), datetime.time(19, 0), datetime.time(18, 10),\n",
       "       datetime.time(15, 15), datetime.time(8, 35), datetime.time(11, 5),\n",
       "       datetime.time(14, 15), datetime.time(10, 55), datetime.time(0, 15),\n",
       "       datetime.time(2, 45), datetime.time(12, 0), datetime.time(23, 55),\n",
       "       datetime.time(1, 30), datetime.time(9, 25), datetime.time(15, 25),\n",
       "       datetime.time(15, 35), datetime.time(8, 30), datetime.time(10, 5),\n",
       "       datetime.time(14, 30), datetime.time(7, 55), datetime.time(10, 35),\n",
       "       datetime.time(22, 35), datetime.time(4, 40), datetime.time(7, 25),\n",
       "       datetime.time(20, 45), datetime.time(14, 25),\n",
       "       datetime.time(22, 30), datetime.time(23, 20), datetime.time(7, 40),\n",
       "       datetime.time(22, 50), datetime.time(14, 35), datetime.time(8, 55),\n",
       "       datetime.time(18, 50), datetime.time(9, 5), datetime.time(1, 35),\n",
       "       datetime.time(9, 40), datetime.time(16, 25), datetime.time(11, 10),\n",
       "       datetime.time(17, 5), datetime.time(17, 50), datetime.time(23, 10),\n",
       "       datetime.time(8, 45), datetime.time(7, 45), datetime.time(16, 10),\n",
       "       datetime.time(0, 55), datetime.time(23, 35), datetime.time(20, 0),\n",
       "       datetime.time(0, 40), datetime.time(21, 45), datetime.time(18, 15),\n",
       "       datetime.time(3, 25), datetime.time(4, 15), datetime.time(21, 10),\n",
       "       datetime.time(21, 5), datetime.time(9, 45), datetime.time(18, 5),\n",
       "       datetime.time(22, 0), datetime.time(15, 30), datetime.time(8, 50),\n",
       "       datetime.time(8, 0), datetime.time(19, 35), datetime.time(11, 20),\n",
       "       datetime.time(10, 15), datetime.time(12, 45), datetime.time(2, 20),\n",
       "       datetime.time(7, 15), datetime.time(11, 50), datetime.time(18, 30),\n",
       "       datetime.time(19, 45), datetime.time(21, 20), datetime.time(20, 5),\n",
       "       datetime.time(9, 10), datetime.time(22, 20), datetime.time(10, 10),\n",
       "       datetime.time(1, 0), datetime.time(23, 50), datetime.time(12, 20),\n",
       "       datetime.time(20, 25), datetime.time(22, 45),\n",
       "       datetime.time(21, 25), datetime.time(14, 5), datetime.time(0, 5),\n",
       "       datetime.time(19, 55), datetime.time(16, 20), datetime.time(7, 5),\n",
       "       datetime.time(19, 10), datetime.time(12, 5), datetime.time(4, 5),\n",
       "       datetime.time(19, 40), datetime.time(17, 55),\n",
       "       datetime.time(17, 25), datetime.time(0, 30), datetime.time(23, 40),\n",
       "       datetime.time(23, 5), datetime.time(0, 50), datetime.time(13, 45),\n",
       "       datetime.time(9, 15), datetime.time(20, 35), datetime.time(7, 10),\n",
       "       datetime.time(9, 35), datetime.time(14, 20), datetime.time(4, 45),\n",
       "       datetime.time(10, 30), datetime.time(19, 25), datetime.time(5, 35),\n",
       "       datetime.time(9, 0), datetime.time(22, 40), datetime.time(14, 45),\n",
       "       datetime.time(13, 25), datetime.time(21, 55),\n",
       "       datetime.time(10, 45), datetime.time(10, 40), datetime.time(13, 0),\n",
       "       datetime.time(22, 10), datetime.time(18, 35), datetime.time(5, 25),\n",
       "       datetime.time(22, 15), datetime.time(12, 10),\n",
       "       datetime.time(12, 15), datetime.time(14, 0), datetime.time(2, 15),\n",
       "       datetime.time(12, 50), datetime.time(17, 15), datetime.time(7, 35),\n",
       "       datetime.time(23, 45), datetime.time(22, 25),\n",
       "       datetime.time(12, 25), datetime.time(6, 35), datetime.time(1, 20),\n",
       "       datetime.time(18, 45), datetime.time(9, 30), datetime.time(4, 20),\n",
       "       datetime.time(10, 50), datetime.time(23, 25), datetime.time(22, 5),\n",
       "       datetime.time(13, 30), datetime.time(13, 35),\n",
       "       datetime.time(17, 35), datetime.time(8, 20), datetime.time(18, 25),\n",
       "       datetime.time(10, 20), datetime.time(15, 50),\n",
       "       datetime.time(11, 30), datetime.time(14, 10), datetime.time(0, 25),\n",
       "       datetime.time(3, 15), datetime.time(15, 55), datetime.time(0, 45),\n",
       "       datetime.time(4, 35), datetime.time(18, 0), datetime.time(12, 30),\n",
       "       datetime.time(2, 10), datetime.time(0, 20), datetime.time(21, 40),\n",
       "       datetime.time(8, 40), datetime.time(16, 55), datetime.time(20, 30),\n",
       "       datetime.time(17, 20), datetime.time(0, 35), datetime.time(20, 15),\n",
       "       datetime.time(14, 50), datetime.time(13, 40),\n",
       "       datetime.time(16, 50), datetime.time(15, 5), datetime.time(17, 45),\n",
       "       datetime.time(18, 40), datetime.time(3, 10), datetime.time(16, 40),\n",
       "       datetime.time(9, 50), datetime.time(13, 5), datetime.time(17, 40),\n",
       "       datetime.time(20, 40), datetime.time(17, 10),\n",
       "       datetime.time(20, 50), datetime.time(0, 10), datetime.time(8, 10),\n",
       "       datetime.time(16, 15), datetime.time(16, 5), datetime.time(10, 0),\n",
       "       datetime.time(16, 35), datetime.time(18, 20), datetime.time(4, 0),\n",
       "       datetime.time(21, 15), datetime.time(14, 40), datetime.time(1, 45),\n",
       "       datetime.time(16, 30), datetime.time(11, 55),\n",
       "       datetime.time(15, 20), datetime.time(20, 10), datetime.time(15, 0),\n",
       "       datetime.time(15, 45), datetime.time(12, 40),\n",
       "       datetime.time(15, 10), datetime.time(13, 10),\n",
       "       datetime.time(11, 15), datetime.time(3, 40), datetime.time(16, 0),\n",
       "       datetime.time(11, 35)], dtype=object)"
      ]
     },
     "execution_count": 112,
     "metadata": {},
     "output_type": "execute_result"
    }
   ],
   "source": [
    "df2[\"Arrival_time\"].unique()"
   ]
  },
  {
   "cell_type": "code",
   "execution_count": 114,
   "id": "c6dd5304-8a6b-43fe-9aa5-ef455109c89e",
   "metadata": {},
   "outputs": [],
   "source": [
    "df2['Dep_Time']=pd.to_datetime(df2['Dep_Time'], format='%H:%M').dt.time"
   ]
  },
  {
   "cell_type": "code",
   "execution_count": 116,
   "id": "18ee6682-d714-4fe1-aaa7-e875f9c24883",
   "metadata": {},
   "outputs": [
    {
     "data": {
      "text/plain": [
       "array([datetime.time(22, 20), datetime.time(5, 50), datetime.time(9, 25),\n",
       "       datetime.time(18, 5), datetime.time(16, 50), datetime.time(9, 0),\n",
       "       datetime.time(18, 55), datetime.time(8, 0), datetime.time(8, 55),\n",
       "       datetime.time(11, 25), datetime.time(9, 45), datetime.time(20, 20),\n",
       "       datetime.time(11, 40), datetime.time(21, 10),\n",
       "       datetime.time(17, 15), datetime.time(16, 40), datetime.time(8, 45),\n",
       "       datetime.time(14, 0), datetime.time(20, 15), datetime.time(16, 0),\n",
       "       datetime.time(14, 10), datetime.time(22, 0), datetime.time(4, 0),\n",
       "       datetime.time(21, 25), datetime.time(21, 50), datetime.time(7, 0),\n",
       "       datetime.time(7, 5), datetime.time(9, 50), datetime.time(14, 35),\n",
       "       datetime.time(10, 35), datetime.time(15, 5), datetime.time(14, 15),\n",
       "       datetime.time(6, 45), datetime.time(20, 55), datetime.time(11, 10),\n",
       "       datetime.time(5, 45), datetime.time(19, 0), datetime.time(23, 5),\n",
       "       datetime.time(11, 0), datetime.time(9, 35), datetime.time(21, 15),\n",
       "       datetime.time(23, 55), datetime.time(19, 45), datetime.time(8, 50),\n",
       "       datetime.time(15, 40), datetime.time(6, 5), datetime.time(15, 0),\n",
       "       datetime.time(13, 55), datetime.time(5, 55), datetime.time(13, 20),\n",
       "       datetime.time(5, 5), datetime.time(6, 25), datetime.time(17, 30),\n",
       "       datetime.time(8, 20), datetime.time(19, 55), datetime.time(6, 30),\n",
       "       datetime.time(14, 5), datetime.time(2, 0), datetime.time(9, 40),\n",
       "       datetime.time(8, 25), datetime.time(20, 25), datetime.time(13, 15),\n",
       "       datetime.time(2, 15), datetime.time(16, 55), datetime.time(20, 45),\n",
       "       datetime.time(5, 15), datetime.time(19, 50), datetime.time(20, 0),\n",
       "       datetime.time(6, 10), datetime.time(19, 30), datetime.time(4, 45),\n",
       "       datetime.time(12, 55), datetime.time(18, 15),\n",
       "       datetime.time(17, 20), datetime.time(15, 25), datetime.time(23, 0),\n",
       "       datetime.time(12, 0), datetime.time(14, 45), datetime.time(11, 50),\n",
       "       datetime.time(11, 30), datetime.time(14, 40),\n",
       "       datetime.time(19, 10), datetime.time(6, 0), datetime.time(23, 30),\n",
       "       datetime.time(7, 35), datetime.time(13, 5), datetime.time(12, 30),\n",
       "       datetime.time(15, 10), datetime.time(12, 50),\n",
       "       datetime.time(18, 25), datetime.time(16, 30), datetime.time(0, 40),\n",
       "       datetime.time(6, 50), datetime.time(13, 0), datetime.time(19, 15),\n",
       "       datetime.time(1, 30), datetime.time(17, 0), datetime.time(10, 0),\n",
       "       datetime.time(19, 35), datetime.time(15, 30),\n",
       "       datetime.time(12, 10), datetime.time(16, 10),\n",
       "       datetime.time(20, 35), datetime.time(22, 25), datetime.time(21, 5),\n",
       "       datetime.time(5, 35), datetime.time(5, 10), datetime.time(6, 40),\n",
       "       datetime.time(15, 15), datetime.time(0, 30), datetime.time(8, 30),\n",
       "       datetime.time(7, 10), datetime.time(5, 30), datetime.time(14, 25),\n",
       "       datetime.time(5, 25), datetime.time(10, 20), datetime.time(17, 45),\n",
       "       datetime.time(13, 10), datetime.time(22, 10), datetime.time(4, 55),\n",
       "       datetime.time(17, 50), datetime.time(21, 20), datetime.time(6, 20),\n",
       "       datetime.time(15, 55), datetime.time(20, 30),\n",
       "       datetime.time(17, 25), datetime.time(9, 30), datetime.time(7, 30),\n",
       "       datetime.time(2, 35), datetime.time(10, 55), datetime.time(17, 10),\n",
       "       datetime.time(9, 10), datetime.time(18, 45), datetime.time(15, 20),\n",
       "       datetime.time(22, 50), datetime.time(14, 55),\n",
       "       datetime.time(14, 20), datetime.time(13, 25),\n",
       "       datetime.time(22, 15), datetime.time(11, 5), datetime.time(16, 15),\n",
       "       datetime.time(20, 10), datetime.time(6, 55), datetime.time(19, 5),\n",
       "       datetime.time(7, 55), datetime.time(7, 45), datetime.time(10, 10),\n",
       "       datetime.time(8, 15), datetime.time(11, 35), datetime.time(21, 0),\n",
       "       datetime.time(17, 55), datetime.time(16, 45),\n",
       "       datetime.time(18, 20), datetime.time(3, 50), datetime.time(8, 35),\n",
       "       datetime.time(19, 20), datetime.time(20, 5), datetime.time(17, 40),\n",
       "       datetime.time(4, 40), datetime.time(17, 35), datetime.time(9, 55),\n",
       "       datetime.time(5, 0), datetime.time(18, 0), datetime.time(2, 55),\n",
       "       datetime.time(20, 40), datetime.time(22, 55),\n",
       "       datetime.time(22, 40), datetime.time(21, 30), datetime.time(8, 10),\n",
       "       datetime.time(17, 5), datetime.time(7, 25), datetime.time(15, 45),\n",
       "       datetime.time(9, 15), datetime.time(15, 50), datetime.time(11, 45),\n",
       "       datetime.time(22, 5), datetime.time(18, 35), datetime.time(0, 25),\n",
       "       datetime.time(19, 40), datetime.time(20, 50),\n",
       "       datetime.time(22, 45), datetime.time(10, 30),\n",
       "       datetime.time(23, 25), datetime.time(11, 55),\n",
       "       datetime.time(10, 45), datetime.time(11, 15),\n",
       "       datetime.time(12, 20), datetime.time(14, 30), datetime.time(7, 15),\n",
       "       datetime.time(1, 35), datetime.time(18, 40), datetime.time(9, 20),\n",
       "       datetime.time(21, 55), datetime.time(13, 50), datetime.time(1, 40),\n",
       "       datetime.time(0, 20), datetime.time(4, 15), datetime.time(13, 45),\n",
       "       datetime.time(18, 30), datetime.time(6, 15), datetime.time(2, 5),\n",
       "       datetime.time(12, 15), datetime.time(13, 30), datetime.time(6, 35),\n",
       "       datetime.time(10, 5), datetime.time(8, 40), datetime.time(3, 5),\n",
       "       datetime.time(21, 35), datetime.time(16, 35), datetime.time(2, 30),\n",
       "       datetime.time(16, 25), datetime.time(5, 40), datetime.time(15, 35),\n",
       "       datetime.time(13, 40), datetime.time(7, 20), datetime.time(4, 50),\n",
       "       datetime.time(12, 45), datetime.time(10, 25), datetime.time(12, 5),\n",
       "       datetime.time(11, 20), datetime.time(21, 40), datetime.time(3, 0)],\n",
       "      dtype=object)"
      ]
     },
     "execution_count": 116,
     "metadata": {},
     "output_type": "execute_result"
    }
   ],
   "source": [
    "df2[\"Dep_Time\"].unique()"
   ]
  },
  {
   "cell_type": "code",
   "execution_count": 118,
   "id": "f52de280-f5ab-4aea-a4d7-70950dbf292d",
   "metadata": {},
   "outputs": [],
   "source": [
    "df2.drop('Duration',axis=1,inplace=True)"
   ]
  },
  {
   "cell_type": "code",
   "execution_count": 169,
   "id": "0445d185-9bad-406c-8fd5-965bfc9d7c66",
   "metadata": {},
   "outputs": [],
   "source": [
    "df2.drop(\"Date_of_Journey\", axis=1, inplace=True)"
   ]
  },
  {
   "cell_type": "code",
   "execution_count": 171,
   "id": "d3d7b878-8ad7-4e8b-a654-7745cfbee8de",
   "metadata": {},
   "outputs": [
    {
     "name": "stdout",
     "output_type": "stream",
     "text": [
      "<class 'pandas.core.frame.DataFrame'>\n",
      "Index: 10681 entries, 0 to 10682\n",
      "Data columns (total 14 columns):\n",
      " #   Column           Non-Null Count  Dtype \n",
      "---  ------           --------------  ----- \n",
      " 0   Airline          10681 non-null  object\n",
      " 1   Source           10681 non-null  object\n",
      " 2   Destination      10681 non-null  object\n",
      " 3   Route            10681 non-null  object\n",
      " 4   Dep_Time         10681 non-null  object\n",
      " 5   Total_Stops      10681 non-null  object\n",
      " 6   Additional_Info  10681 non-null  object\n",
      " 7   Price            10681 non-null  int64 \n",
      " 8   Day              10681 non-null  int32 \n",
      " 9   Month            10681 non-null  int32 \n",
      " 10  Year             10681 non-null  int32 \n",
      " 11  Hours            10681 non-null  int32 \n",
      " 12  Minutes          10681 non-null  int32 \n",
      " 13  Arrival_time     10681 non-null  object\n",
      "dtypes: int32(5), int64(1), object(8)\n",
      "memory usage: 1.0+ MB\n"
     ]
    }
   ],
   "source": [
    "df2.info()"
   ]
  },
  {
   "cell_type": "markdown",
   "id": "5fab6103-2036-40d9-8ec1-01d2be1ff9c6",
   "metadata": {},
   "source": [
    "# Explore data "
   ]
  },
  {
   "cell_type": "code",
   "execution_count": 122,
   "id": "acbb35ef-52b0-48d0-83a5-dafbe9398932",
   "metadata": {},
   "outputs": [
    {
     "name": "stdout",
     "output_type": "stream",
     "text": [
      "we have 6 numeric column:['Price', 'Day', 'Month', 'Year', 'Hours', 'Minutes']\n",
      "we have 9 category_column:['Airline', 'Date_of_Journey', 'Source', 'Destination', 'Route', 'Dep_Time', 'Total_Stops', 'Additional_Info', 'Arrival_time']\n"
     ]
    }
   ],
   "source": [
    "numeric_col= [col for col in df2.columns if df2[col].dtype != 'O'] \n",
    "category_col=[col for col in df2.columns if df2[col].dtype=='O']\n",
    "\n",
    "print(\"we have {} numeric column:{}\".format(len(numeric_col),numeric_col))\n",
    "print(\"we have {} category_column:{}\".format(len(category_col),category_col))"
   ]
  },
  {
   "cell_type": "code",
   "execution_count": 124,
   "id": "09a5a7cc-7cce-430f-a240-5b336ec68514",
   "metadata": {},
   "outputs": [
    {
     "name": "stdout",
     "output_type": "stream",
     "text": [
      "Airline\n",
      "Jet Airways                          36.035952\n",
      "IndiGo                               19.221047\n",
      "Air India                            16.384234\n",
      "Multiple carriers                    11.197453\n",
      "SpiceJet                              7.658459\n",
      "Vistara                               4.484599\n",
      "Air Asia                              2.986612\n",
      "GoAir                                 1.816309\n",
      "Multiple carriers Premium economy     0.121711\n",
      "Jet Airways Business                  0.056175\n",
      "Vistara Premium economy               0.028087\n",
      "Trujet                                0.009362\n",
      "Name: proportion, dtype: float64\n",
      "_____________________________________________________________________________\n",
      "Date_of_Journey\n",
      "2019-05-18    4.718659\n",
      "2019-06-06    4.709297\n",
      "2019-05-21    4.653122\n",
      "2019-06-09    4.634398\n",
      "2019-06-12    4.615673\n",
      "2019-05-09    4.531411\n",
      "2019-03-21    3.960303\n",
      "2019-05-15    3.791780\n",
      "2019-03-06    3.763693\n",
      "2019-05-27    3.576444\n",
      "2019-06-27    3.323659\n",
      "2019-06-24    3.286209\n",
      "2019-06-01    3.201947\n",
      "2019-06-03    3.117686\n",
      "2019-06-15    3.070874\n",
      "2019-03-24    3.024061\n",
      "2019-03-03    2.949162\n",
      "2019-03-09    2.827451\n",
      "2019-03-27    2.799363\n",
      "2019-05-24    2.677652\n",
      "2019-05-06    2.630840\n",
      "2019-05-01    2.593390\n",
      "2019-05-12    2.424867\n",
      "2019-04-01    2.406142\n",
      "2019-03-01    1.863121\n",
      "2019-03-15    1.516712\n",
      "2019-03-18    1.460537\n",
      "2019-03-12    1.329464\n",
      "2019-04-09    1.170302\n",
      "2019-04-03    1.029866\n",
      "2019-06-21    1.020504\n",
      "2019-06-18    0.983054\n",
      "2019-04-06    0.936242\n",
      "2019-04-27    0.880067\n",
      "2019-04-24    0.861343\n",
      "2019-05-03    0.842618\n",
      "2019-04-15    0.833255\n",
      "2019-04-21    0.767718\n",
      "2019-04-18    0.627282\n",
      "2019-04-12    0.589832\n",
      "Name: proportion, dtype: float64\n",
      "_____________________________________________________________________________\n",
      "Source\n",
      "Delhi       42.467934\n",
      "Kolkata     26.879506\n",
      "Banglore    20.569235\n",
      "Mumbai       6.516244\n",
      "Chennai      3.567082\n",
      "Name: proportion, dtype: float64\n",
      "_____________________________________________________________________________\n",
      "Destination\n",
      "Cochin       42.467934\n",
      "Banglore     26.879506\n",
      "Delhi        11.843460\n",
      "New Delhi     8.725775\n",
      "Hyderabad     6.516244\n",
      "Kolkata       3.567082\n",
      "Name: proportion, dtype: float64\n",
      "_____________________________________________________________________________\n",
      "Route\n",
      "DEL → BOM → COK          22.245108\n",
      "BLR → DEL                14.530475\n",
      "CCU → BOM → BLR           9.165808\n",
      "CCU → BLR                 6.778392\n",
      "BOM → HYD                 5.814062\n",
      "                           ...    \n",
      "CCU → VTZ → BLR           0.009362\n",
      "CCU → IXZ → MAA → BLR     0.009362\n",
      "BOM → COK → MAA → HYD     0.009362\n",
      "BOM → CCU → HYD           0.009362\n",
      "BOM → BBI → HYD           0.009362\n",
      "Name: proportion, Length: 128, dtype: float64\n",
      "_____________________________________________________________________________\n",
      "Dep_Time\n",
      "18:55:00    2.181444\n",
      "17:00:00    2.125269\n",
      "07:05:00    1.919296\n",
      "10:00:00    1.900571\n",
      "07:10:00    1.891209\n",
      "              ...   \n",
      "16:25:00    0.009362\n",
      "01:35:00    0.009362\n",
      "21:35:00    0.009362\n",
      "04:15:00    0.009362\n",
      "03:00:00    0.009362\n",
      "Name: proportion, Length: 222, dtype: float64\n",
      "_____________________________________________________________________________\n",
      "Total_Stops\n",
      "1 stop      52.663608\n",
      "non-stop    32.684206\n",
      "2 stops     14.221515\n",
      "3 stops      0.421309\n",
      "4 stops      0.009362\n",
      "Name: proportion, dtype: float64\n",
      "_____________________________________________________________________________\n",
      "Additional_Info\n",
      "No info                         78.110664\n",
      "In-flight meal not included     18.556315\n",
      "No check-in baggage included     2.995974\n",
      "1 Long layover                   0.177886\n",
      "Change airports                  0.065537\n",
      "Business class                   0.037450\n",
      "No Info                          0.028087\n",
      "1 Short layover                  0.009362\n",
      "Red-eye flight                   0.009362\n",
      "2 Long layover                   0.009362\n",
      "Name: proportion, dtype: float64\n",
      "_____________________________________________________________________________\n",
      "Arrival_time\n",
      "19:00:00    5.785975\n",
      "04:25:00    5.514465\n",
      "19:15:00    5.364666\n",
      "12:35:00    4.156914\n",
      "21:00:00    3.370471\n",
      "              ...   \n",
      "13:10:00    0.009362\n",
      "11:15:00    0.009362\n",
      "03:40:00    0.009362\n",
      "16:00:00    0.009362\n",
      "11:35:00    0.009362\n",
      "Name: proportion, Length: 223, dtype: float64\n",
      "_____________________________________________________________________________\n"
     ]
    }
   ],
   "source": [
    "for cols in category_col:\n",
    "    print(df2[cols].value_counts(normalize =True)*100)\n",
    "    print(\"_____________________________________________________________________________\")"
   ]
  },
  {
   "cell_type": "code",
   "execution_count": 126,
   "id": "f020b134-03dd-4d29-89f8-5128b0ce4af6",
   "metadata": {},
   "outputs": [
    {
     "name": "stdout",
     "output_type": "stream",
     "text": [
      "Price\n",
      "10262    2.415504\n",
      "10844    1.984833\n",
      "7229     1.516712\n",
      "4804     1.497987\n",
      "4823     1.226477\n",
      "           ...   \n",
      "14153    0.009362\n",
      "8488     0.009362\n",
      "7826     0.009362\n",
      "6315     0.009362\n",
      "12648    0.009362\n",
      "Name: proportion, Length: 1870, dtype: float64\n",
      "_____________________________________________________________________________\n",
      "Day\n",
      "9     13.163561\n",
      "6     12.040071\n",
      "27    10.579534\n",
      "21    10.401648\n",
      "1     10.064601\n",
      "24     9.849265\n",
      "15     9.212621\n",
      "12     8.959835\n",
      "3      7.939332\n",
      "18     7.789533\n",
      "Name: proportion, dtype: float64\n",
      "_____________________________________________________________________________\n",
      "Month\n",
      "5    32.440783\n",
      "6    31.963299\n",
      "3    25.493868\n",
      "4    10.102050\n",
      "Name: proportion, dtype: float64\n",
      "_____________________________________________________________________________\n",
      "Year\n",
      "2019    100.0\n",
      "Name: proportion, dtype: float64\n",
      "_____________________________________________________________________________\n",
      "Hours\n",
      "2     22.488531\n",
      "1      5.814062\n",
      "3      4.690572\n",
      "7      4.559498\n",
      "5      4.503324\n",
      "9      4.166277\n",
      "12     4.007115\n",
      "8      3.969666\n",
      "13     3.810505\n",
      "11     3.417283\n",
      "10     3.323659\n",
      "6      3.183223\n",
      "14     3.155135\n",
      "15     2.509128\n",
      "23     2.471679\n",
      "26     2.256343\n",
      "16     2.190806\n",
      "4      2.078457\n",
      "22     2.041007\n",
      "24     1.844397\n",
      "21     1.835034\n",
      "25     1.741410\n",
      "27     1.675873\n",
      "20     1.516712\n",
      "18     1.320101\n",
      "19     1.254564\n",
      "17     1.207752\n",
      "28     0.880067\n",
      "29     0.608557\n",
      "30     0.458759\n",
      "38     0.318322\n",
      "37     0.159161\n",
      "33     0.121711\n",
      "32     0.084262\n",
      "34     0.074899\n",
      "36     0.065537\n",
      "35     0.065537\n",
      "31     0.056175\n",
      "47     0.018725\n",
      "42     0.018725\n",
      "39     0.018725\n",
      "41     0.009362\n",
      "40     0.009362\n",
      "Name: proportion, dtype: float64\n",
      "_____________________________________________________________________________\n",
      "Minutes\n",
      "30    13.538058\n",
      "0      9.652654\n",
      "20     9.334332\n",
      "50     9.100272\n",
      "35     8.791312\n",
      "55     8.519802\n",
      "15     8.454265\n",
      "45     8.388728\n",
      "25     7.518023\n",
      "40     5.954499\n",
      "5      5.832787\n",
      "10     4.915270\n",
      "Name: proportion, dtype: float64\n",
      "_____________________________________________________________________________\n"
     ]
    }
   ],
   "source": [
    "for cols in numeric_col:\n",
    "    print(df2[cols].value_counts(normalize =True)*100)\n",
    "    print(\"_____________________________________________________________________________\")"
   ]
  },
  {
   "cell_type": "markdown",
   "id": "370c3bae-a59e-4967-b102-7b9bee24c983",
   "metadata": {},
   "source": [
    "# Data Visualisation"
   ]
  },
  {
   "cell_type": "markdown",
   "id": "aba87794-52c6-40c4-a76e-9ebce4e95b3e",
   "metadata": {},
   "source": [
    "# Which airline is most traveled "
   ]
  },
  {
   "cell_type": "code",
   "execution_count": 140,
   "id": "46d78f92-6199-443a-a28d-390ea9a99122",
   "metadata": {},
   "outputs": [
    {
     "data": {
      "text/plain": [
       "<Axes: xlabel='Airline'>"
      ]
     },
     "execution_count": 140,
     "metadata": {},
     "output_type": "execute_result"
    },
    {
     "data": {
      "image/png": "[encoded data removed]",
      "text/plain": [
       "<Figure size 1000x500 with 1 Axes>"
      ]
     },
     "metadata": {},
     "output_type": "display_data"
    }
   ],
   "source": [
    "df2[\"Airline\"].value_counts().plot(kind=\"bar\"  , figsize=(10,5))"
   ]
  },
  {
   "cell_type": "markdown",
   "id": "34e92b3c-3d7d-4630-b6de-3d6c2e014f23",
   "metadata": {},
   "source": [
    "# which is the most popular destination "
   ]
  },
  {
   "cell_type": "code",
   "execution_count": 156,
   "id": "2a09f9a0-b3ca-4826-930e-dd51d9a9a709",
   "metadata": {},
   "outputs": [
    {
     "data": {
      "text/plain": [
       "<Axes: xlabel='Destination'>"
      ]
     },
     "execution_count": 156,
     "metadata": {},
     "output_type": "execute_result"
    },
    {
     "data": {
      "image/png": "[encoded data removed]",
      "text/plain": [
       "<Figure size 1000x500 with 1 Axes>"
      ]
     },
     "metadata": {},
     "output_type": "display_data"
    }
   ],
   "source": [
    "df2[\"Destination\"].value_counts().plot(kind=\"line\",stacked= True  , figsize=(10,5))"
   ]
  },
  {
   "cell_type": "markdown",
   "id": "ca1a62f6-3c6d-4f75-bf04-2be8ee7422e4",
   "metadata": {},
   "source": [
    "# which state is the popular to take flight"
   ]
  },
  {
   "cell_type": "code",
   "execution_count": 167,
   "id": "56deec39-7b37-443f-a34d-2d21161d6432",
   "metadata": {},
   "outputs": [
    {
     "data": {
      "text/plain": [
       "<Axes: xlabel='Source'>"
      ]
     },
     "execution_count": 167,
     "metadata": {},
     "output_type": "execute_result"
    },
    {
     "data": {
      "image/png": "[encoded data removed]",
      "text/plain": [
       "<Figure size 1000x500 with 1 Axes>"
      ]
     },
     "metadata": {},
     "output_type": "display_data"
    }
   ],
   "source": [
    "df2[\"Source\"].value_counts().plot(kind=\"bar\",stacked= True  , figsize=(10,5))"
   ]
  },
  {
   "cell_type": "markdown",
   "id": "d4909023-9d18-4ebd-a4d0-a2f449ba02e5",
   "metadata": {},
   "source": [
    "# Which month traveling through flight take place"
   ]
  },
  {
   "cell_type": "code",
   "execution_count": 181,
   "id": "b0510188-af0a-4986-95ad-c894b3684542",
   "metadata": {},
   "outputs": [],
   "source": [
    "import calendar\n",
    "df2['month_name'] = df2['Month'].apply(lambda x: calendar.month_name[x])"
   ]
  },
  {
   "cell_type": "code",
   "execution_count": 185,
   "id": "ce6dcf76-b8f4-4645-bd5c-58c4085984c8",
   "metadata": {},
   "outputs": [
    {
     "data": {
      "image/png": "[encoded data removed]",
      "text/plain": [
       "<Figure size 1200x600 with 1 Axes>"
      ]
     },
     "metadata": {},
     "output_type": "display_data"
    }
   ],
   "source": [
    "month_order = list(calendar.month_name)[1:]\n",
    "plt.figure(figsize=(12,6))\n",
    "sns.countplot(data=df2, x='month_name', order=month_order)\n",
    "plt.title(\"Number of Flights per Month\")\n",
    "plt.xticks(rotation=45)\n",
    "plt.tight_layout()\n",
    "plt.show()"
   ]
  },
  {
   "cell_type": "markdown",
   "id": "5222e45e-a7c4-4b23-917e-a1c50815dc8f",
   "metadata": {},
   "source": [
    "# How Many Stops does flights have "
   ]
  },
  {
   "cell_type": "code",
   "execution_count": 204,
   "id": "c1e09b6e-c729-4924-b7b2-c638fee9bfce",
   "metadata": {},
   "outputs": [
    {
     "data": {
      "text/plain": [
       "<Axes: ylabel='count'>"
      ]
     },
     "execution_count": 204,
     "metadata": {},
     "output_type": "execute_result"
    },
    {
     "data": {
      "image/png": "[encoded data removed]",
      "text/plain": [
       "<Figure size 800x800 with 1 Axes>"
      ]
     },
     "metadata": {},
     "output_type": "display_data"
    }
   ],
   "source": [
    "df2['Total_Stops'].value_counts().plot.pie(y=df2[\"Total_Stops\"],figsize=(8,8),autopct='%1.1f%%',pctdistance=0.6)"
   ]
  },
  {
   "cell_type": "markdown",
   "id": "f287913f-ffd3-494c-a925-67333144d3b5",
   "metadata": {},
   "source": [
    "# Highest Airline in Price"
   ]
  },
  {
   "cell_type": "code",
   "execution_count": 210,
   "id": "ad5b13d0-42d4-4e47-ac24-3b632d0f2616",
   "metadata": {},
   "outputs": [
    {
     "data": {
      "image/png": "[encoded data removed]",
      "text/plain": [
       "<Figure size 1200x600 with 1 Axes>"
      ]
     },
     "metadata": {},
     "output_type": "display_data"
    }
   ],
   "source": [
    "max_price_per_airline = df.groupby('Airline')['Price'].max().sort_values(ascending=False)\n",
    "plt.figure(figsize=(12,6))\n",
    "sns.barplot(x=max_price_per_airline.index, y=max_price_per_airline.values)\n",
    "plt.title(\"Maximum Flight Price by Airline\")\n",
    "plt.ylabel(\"Max Price\")\n",
    "plt.xlabel(\"Airline\")\n",
    "plt.xticks(rotation=45)\n",
    "plt.tight_layout()\n",
    "plt.show()"
   ]
  },
  {
   "cell_type": "code",
   "execution_count": null,
   "id": "27e47ffe-5e50-4328-b6af-edc82da55080",
   "metadata": {},
   "outputs": [],
   "source": []
  }
 ],
 "metadata": {
  "kernelspec": {
   "display_name": "Python 3 (ipykernel)",
   "language": "python",
   "name": "python3"
  },
  "language_info": {
   "codemirror_mode": {
    "name": "ipython",
    "version": 3
   },
   "file_extension": ".py",
   "mimetype": "text/x-python",
   "name": "python",
   "nbconvert_exporter": "python",
   "pygments_lexer": "ipython3",
   "version": "3.12.4"
  }
 },
 "nbformat": 4,
 "nbformat_minor": 5
}
